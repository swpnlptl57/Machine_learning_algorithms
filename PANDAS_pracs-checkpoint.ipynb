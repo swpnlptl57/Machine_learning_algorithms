{
 "cells": [
  {
   "cell_type": "markdown",
   "metadata": {},
   "source": [
    "# 1.Pandas Series"
   ]
  },
  {
   "cell_type": "code",
   "execution_count": 11,
   "metadata": {},
   "outputs": [
    {
     "name": "stdout",
     "output_type": "stream",
     "text": [
      "100    a\n",
      "200    b\n",
      "300    c\n",
      "400    d\n",
      "dtype: object\n"
     ]
    }
   ],
   "source": [
    "import pandas as pd\n",
    "import numpy as np\n",
    "data = np.array(['a','b', 'c','d'])\n",
    "s = pd.Series(data)\n",
    "#change index numbers\n",
    "s = pd.Series(data , index= [100,200,300,400])\n",
    "print (s)"
   ]
  },
  {
   "cell_type": "code",
   "execution_count": 7,
   "metadata": {},
   "outputs": [
    {
     "name": "stdout",
     "output_type": "stream",
     "text": [
      "a     0.0\n",
      "b     3.0\n",
      "d    44.0\n",
      "m     NaN\n",
      "dtype: float64\n"
     ]
    }
   ],
   "source": [
    "#change index and values both - use dictionary concept\n",
    "\n",
    "data = {'a':0 ,'b':3, 'c':33,'d':44}\n",
    "s = pd.Series(data , index= ['a','b','d', 'm'])\n",
    "print (s)"
   ]
  },
  {
   "cell_type": "code",
   "execution_count": 14,
   "metadata": {},
   "outputs": [
    {
     "name": "stdout",
     "output_type": "stream",
     "text": [
      "a     4\n",
      "b     3\n",
      "d    45\n",
      "m    33\n",
      "dtype: int64\n",
      "a    5\n",
      "b    5\n",
      "d    5\n",
      "m    5\n",
      "dtype: int64\n",
      "a    5\n",
      "b    5\n",
      "d    5\n",
      "dtype: int64\n",
      "m    33\n",
      "dtype: int64\n"
     ]
    }
   ],
   "source": [
    "s = pd.Series([4,3,45,33], index= ['a','b','d', 'm'])\n",
    "print(s)\n",
    "m = pd.Series(s , index = ['a','b','d', 'm'])\n",
    "print(m)\n",
    "print (m[:3])\n",
    "print(s[-1:])"
   ]
  },
  {
   "cell_type": "markdown",
   "metadata": {},
   "source": [
    "# 2.Pandas Dataframe\n"
   ]
  },
  {
   "cell_type": "code",
   "execution_count": 15,
   "metadata": {},
   "outputs": [
    {
     "name": "stdout",
     "output_type": "stream",
     "text": [
      "Empty DataFrame\n",
      "Columns: []\n",
      "Index: []\n"
     ]
    }
   ],
   "source": [
    "#create an empty data frame\n",
    "df = pd.DataFrame()\n",
    "print (df)"
   ]
  },
  {
   "cell_type": "code",
   "execution_count": 36,
   "metadata": {},
   "outputs": [
    {
     "name": "stdout",
     "output_type": "stream",
     "text": [
      "   0\n",
      "0  1\n",
      "1  2\n",
      "2  4\n",
      "3  5\n",
      "4  6\n",
      "   0\n",
      "0  1\n",
      "1  2\n",
      "2  3\n",
      "3  4\n",
      "4  5\n",
      "    name   age\n",
      "1   alex  10.0\n",
      "2    bob  20.0\n",
      "3  catty  30.0\n",
      "  name  age\n",
      "0    a   11\n",
      "1    b   33\n",
      "2    c   44\n"
     ]
    }
   ],
   "source": [
    "data = (1,2,4,5,6)\n",
    "df1= pd.DataFrame(data)\n",
    "print (df1)\n",
    "df = pd.DataFrame([1,2,3,4,5])\n",
    "print (df)\n",
    "data1 = (['alex', 10],['bob',20],['catty',30])\n",
    "df2 = pd.DataFrame(data1 , columns = ['name', 'age'], dtype= float, index = ['1','2','3'])\n",
    "print (df2)\n",
    "data2 = {'name': ['a','b', 'c'], 'age' :[11,33,44]}\n",
    "df3 = pd.DataFrame(data2)\n",
    "print(df3)"
   ]
  },
  {
   "cell_type": "markdown",
   "metadata": {},
   "source": [
    "# 3.Pandas Random Numbers & basic functionality"
   ]
  },
  {
   "cell_type": "code",
   "execution_count": 38,
   "metadata": {},
   "outputs": [
    {
     "name": "stdout",
     "output_type": "stream",
     "text": [
      "0    1.232959\n",
      "1    0.053862\n",
      "2    1.265950\n",
      "3    0.196095\n",
      "dtype: float64\n"
     ]
    }
   ],
   "source": [
    " print(pd.Series(np.random.randn(4)))"
   ]
  },
  {
   "cell_type": "code",
   "execution_count": 54,
   "metadata": {},
   "outputs": [
    {
     "name": "stdout",
     "output_type": "stream",
     "text": [
      "          0\n",
      "0  0.299018\n",
      "1  0.605890\n",
      "2  1.294472\n",
      "3 -0.027113\n",
      "2    1.294472\n",
      "3   -0.027113\n",
      "dtype: float64\n",
      "0    0.299018\n",
      "1    0.605890\n",
      "dtype: float64\n",
      "0    0.299018\n",
      "1    0.605890\n",
      "2    1.294472\n",
      "3   -0.027113\n",
      "dtype: float64\n"
     ]
    }
   ],
   "source": [
    "s = pd.Series(np.random.randn(4))\n",
    "df = pd.DataFrame(s)\n",
    "print (df)\n",
    "print (s.tail(2))\n",
    "print (s.head(2))\n",
    "print (s.T)"
   ]
  },
  {
   "cell_type": "code",
   "execution_count": 55,
   "metadata": {},
   "outputs": [
    {
     "data": {
      "text/plain": [
       "[RangeIndex(start=0, stop=4, step=1), RangeIndex(start=0, stop=1, step=1)]"
      ]
     },
     "execution_count": 55,
     "metadata": {},
     "output_type": "execute_result"
    }
   ],
   "source": [
    "df.axes"
   ]
  },
  {
   "cell_type": "code",
   "execution_count": 57,
   "metadata": {},
   "outputs": [
    {
     "data": {
      "text/plain": [
       "0    float64\n",
       "dtype: object"
      ]
     },
     "execution_count": 57,
     "metadata": {},
     "output_type": "execute_result"
    }
   ],
   "source": [
    "df.dtypes"
   ]
  },
  {
   "cell_type": "code",
   "execution_count": 58,
   "metadata": {},
   "outputs": [
    {
     "data": {
      "text/plain": [
       "False"
      ]
     },
     "execution_count": 58,
     "metadata": {},
     "output_type": "execute_result"
    }
   ],
   "source": [
    "df.empty"
   ]
  },
  {
   "cell_type": "code",
   "execution_count": 59,
   "metadata": {},
   "outputs": [
    {
     "data": {
      "text/plain": [
       "2"
      ]
     },
     "execution_count": 59,
     "metadata": {},
     "output_type": "execute_result"
    }
   ],
   "source": [
    "df.ndim"
   ]
  },
  {
   "cell_type": "code",
   "execution_count": 60,
   "metadata": {},
   "outputs": [
    {
     "data": {
      "text/plain": [
       "(4, 1)"
      ]
     },
     "execution_count": 60,
     "metadata": {},
     "output_type": "execute_result"
    }
   ],
   "source": [
    "df.shape"
   ]
  },
  {
   "cell_type": "code",
   "execution_count": 61,
   "metadata": {},
   "outputs": [
    {
     "data": {
      "text/plain": [
       "4"
      ]
     },
     "execution_count": 61,
     "metadata": {},
     "output_type": "execute_result"
    }
   ],
   "source": [
    "df.size"
   ]
  },
  {
   "cell_type": "code",
   "execution_count": 62,
   "metadata": {},
   "outputs": [
    {
     "data": {
      "text/plain": [
       "array([[ 0.29901793],\n",
       "       [ 0.60588973],\n",
       "       [ 1.29447186],\n",
       "       [-0.02711269]])"
      ]
     },
     "execution_count": 62,
     "metadata": {},
     "output_type": "execute_result"
    }
   ],
   "source": [
    "df.values"
   ]
  },
  {
   "cell_type": "markdown",
   "metadata": {},
   "source": [
    "# 4.Stats with pandas"
   ]
  },
  {
   "cell_type": "code",
   "execution_count": 65,
   "metadata": {},
   "outputs": [
    {
     "data": {
      "text/html": [
       "<div>\n",
       "<style scoped>\n",
       "    .dataframe tbody tr th:only-of-type {\n",
       "        vertical-align: middle;\n",
       "    }\n",
       "\n",
       "    .dataframe tbody tr th {\n",
       "        vertical-align: top;\n",
       "    }\n",
       "\n",
       "    .dataframe thead th {\n",
       "        text-align: right;\n",
       "    }\n",
       "</style>\n",
       "<table border=\"1\" class=\"dataframe\">\n",
       "  <thead>\n",
       "    <tr style=\"text-align: right;\">\n",
       "      <th></th>\n",
       "      <th>Name</th>\n",
       "      <th>age</th>\n",
       "      <th>ID</th>\n",
       "    </tr>\n",
       "  </thead>\n",
       "  <tbody>\n",
       "    <tr>\n",
       "      <th>0</th>\n",
       "      <td>jack</td>\n",
       "      <td>11</td>\n",
       "      <td>12.0</td>\n",
       "    </tr>\n",
       "    <tr>\n",
       "      <th>1</th>\n",
       "      <td>james</td>\n",
       "      <td>22</td>\n",
       "      <td>33.0</td>\n",
       "    </tr>\n",
       "    <tr>\n",
       "      <th>2</th>\n",
       "      <td>bob</td>\n",
       "      <td>32</td>\n",
       "      <td>44.0</td>\n",
       "    </tr>\n",
       "    <tr>\n",
       "      <th>3</th>\n",
       "      <td>don</td>\n",
       "      <td>34</td>\n",
       "      <td>32.0</td>\n",
       "    </tr>\n",
       "    <tr>\n",
       "      <th>4</th>\n",
       "      <td>neha</td>\n",
       "      <td>22</td>\n",
       "      <td>44.0</td>\n",
       "    </tr>\n",
       "    <tr>\n",
       "      <th>5</th>\n",
       "      <td>remo</td>\n",
       "      <td>12</td>\n",
       "      <td>11.0</td>\n",
       "    </tr>\n",
       "    <tr>\n",
       "      <th>6</th>\n",
       "      <td>NaN</td>\n",
       "      <td>33</td>\n",
       "      <td>22.0</td>\n",
       "    </tr>\n",
       "    <tr>\n",
       "      <th>7</th>\n",
       "      <td>NaN</td>\n",
       "      <td>34</td>\n",
       "      <td>NaN</td>\n",
       "    </tr>\n",
       "  </tbody>\n",
       "</table>\n",
       "</div>"
      ],
      "text/plain": [
       "    Name  age    ID\n",
       "0   jack   11  12.0\n",
       "1  james   22  33.0\n",
       "2    bob   32  44.0\n",
       "3    don   34  32.0\n",
       "4   neha   22  44.0\n",
       "5   remo   12  11.0\n",
       "6    NaN   33  22.0\n",
       "7    NaN   34   NaN"
      ]
     },
     "execution_count": 65,
     "metadata": {},
     "output_type": "execute_result"
    }
   ],
   "source": [
    "d = {'Name':pd.Series(['jack','james', 'bob', 'don','neha', 'remo']), 'age': pd.Series([11,22,32,34,22,12,33,34]),\n",
    "    'ID':pd.Series([12,33,44,32,44,11,22])}\n",
    "df = pd.DataFrame(d)\n",
    "df\n"
   ]
  },
  {
   "cell_type": "code",
   "execution_count": 78,
   "metadata": {},
   "outputs": [
    {
     "name": "stdout",
     "output_type": "stream",
     "text": [
      "age    200.0\n",
      "ID     198.0\n",
      "dtype: float64\n",
      "sum of the 1st column 0    23.0\n",
      "1    55.0\n",
      "2    76.0\n",
      "3    66.0\n",
      "4    66.0\n",
      "5    23.0\n",
      "6    55.0\n",
      "7    34.0\n",
      "dtype: float64\n",
      "age    25.000000\n",
      "ID     28.285714\n",
      "dtype: float64\n",
      "mean of the first column 0    11.5\n",
      "1    27.5\n",
      "2    38.0\n",
      "3    33.0\n",
      "4    33.0\n",
      "5    11.5\n",
      "6    27.5\n",
      "7    34.0\n",
      "dtype: float64\n",
      "standard deviation: age     9.695360\n",
      "ID     13.744263\n",
      "dtype: float64\n",
      "            age         ID\n",
      "count   8.00000   7.000000\n",
      "mean   25.00000  28.285714\n",
      "std     9.69536  13.744263\n",
      "min    11.00000  11.000000\n",
      "25%    19.50000  17.000000\n",
      "50%    27.00000  32.000000\n",
      "75%    33.25000  38.500000\n",
      "max    34.00000  44.000000\n",
      "       Name       age         ID\n",
      "count     6   8.00000   7.000000\n",
      "unique    6       NaN        NaN\n",
      "top     bob       NaN        NaN\n",
      "freq      1       NaN        NaN\n",
      "mean    NaN  25.00000  28.285714\n",
      "std     NaN   9.69536  13.744263\n",
      "min     NaN  11.00000  11.000000\n",
      "25%     NaN  19.50000  17.000000\n",
      "50%     NaN  27.00000  32.000000\n",
      "75%     NaN  33.25000  38.500000\n",
      "max     NaN  34.00000  44.000000\n",
      "       Name\n",
      "count     6\n",
      "unique    6\n",
      "top     bob\n",
      "freq      1\n",
      "            age         ID\n",
      "count   8.00000   7.000000\n",
      "mean   25.00000  28.285714\n",
      "std     9.69536  13.744263\n",
      "min    11.00000  11.000000\n",
      "25%    19.50000  17.000000\n",
      "50%    27.00000  32.000000\n",
      "75%    33.25000  38.500000\n",
      "max    34.00000  44.000000\n"
     ]
    }
   ],
   "source": [
    "print(df.sum())\n",
    "print(\"sum of the 1st column\", df.sum(1))\n",
    "print(df.mean())\n",
    "print(\"mean of the first column\",df.mean(1))\n",
    "print(\"standard deviation:\",df.std())\n",
    "print(df.describe()) # byh default include= 'all'\n",
    "print(df.describe(include='all'))\n",
    "print(df.describe(include=['object']))#inludes string columns\n",
    "print(df.describe(include=['number']))#inlude numeric columns\n"
   ]
  },
  {
   "cell_type": "markdown",
   "metadata": {},
   "source": [
    "# 5.pandas function application\n"
   ]
  },
  {
   "cell_type": "code",
   "execution_count": 83,
   "metadata": {},
   "outputs": [
    {
     "name": "stdout",
     "output_type": "stream",
     "text": [
      "col1    0.243803\n",
      "col2    0.645781\n",
      "col3   -0.849450\n",
      "dtype: float64\n"
     ]
    },
    {
     "data": {
      "text/html": [
       "<div>\n",
       "<style scoped>\n",
       "    .dataframe tbody tr th:only-of-type {\n",
       "        vertical-align: middle;\n",
       "    }\n",
       "\n",
       "    .dataframe tbody tr th {\n",
       "        vertical-align: top;\n",
       "    }\n",
       "\n",
       "    .dataframe thead th {\n",
       "        text-align: right;\n",
       "    }\n",
       "</style>\n",
       "<table border=\"1\" class=\"dataframe\">\n",
       "  <thead>\n",
       "    <tr style=\"text-align: right;\">\n",
       "      <th></th>\n",
       "      <th>col1</th>\n",
       "      <th>col2</th>\n",
       "      <th>col3</th>\n",
       "    </tr>\n",
       "  </thead>\n",
       "  <tbody>\n",
       "    <tr>\n",
       "      <th>0</th>\n",
       "      <td>0.567560</td>\n",
       "      <td>1.611447</td>\n",
       "      <td>-0.089472</td>\n",
       "    </tr>\n",
       "    <tr>\n",
       "      <th>1</th>\n",
       "      <td>-0.018245</td>\n",
       "      <td>0.593412</td>\n",
       "      <td>-0.739250</td>\n",
       "    </tr>\n",
       "    <tr>\n",
       "      <th>2</th>\n",
       "      <td>-0.177452</td>\n",
       "      <td>0.770796</td>\n",
       "      <td>-1.897104</td>\n",
       "    </tr>\n",
       "    <tr>\n",
       "      <th>3</th>\n",
       "      <td>-0.550039</td>\n",
       "      <td>0.037570</td>\n",
       "      <td>-0.266428</td>\n",
       "    </tr>\n",
       "    <tr>\n",
       "      <th>4</th>\n",
       "      <td>1.397192</td>\n",
       "      <td>0.215680</td>\n",
       "      <td>-1.254996</td>\n",
       "    </tr>\n",
       "  </tbody>\n",
       "</table>\n",
       "</div>"
      ],
      "text/plain": [
       "       col1      col2      col3\n",
       "0  0.567560  1.611447 -0.089472\n",
       "1 -0.018245  0.593412 -0.739250\n",
       "2 -0.177452  0.770796 -1.897104\n",
       "3 -0.550039  0.037570 -0.266428\n",
       "4  1.397192  0.215680 -1.254996"
      ]
     },
     "execution_count": 83,
     "metadata": {},
     "output_type": "execute_result"
    }
   ],
   "source": [
    "#table wise function application- pipe()\n",
    "#row or column wise application -- apply()\n",
    "#element wise function application-- applymap()\n",
    "\n",
    "\n",
    "\n",
    "def adder(ele1, ele2):\n",
    "    return ele1+ele2\n",
    "\n",
    "df = (pd.DataFrame(np.random.randn(5,3),columns=['col1','col2', 'col3']))\n",
    "df.pipe(adder, 2)#table wise function application, applies to the whole dataframe\n",
    "print (df.apply(np.mean))\n",
    "df"
   ]
  },
  {
   "cell_type": "code",
   "execution_count": 92,
   "metadata": {},
   "outputs": [
    {
     "name": "stdout",
     "output_type": "stream",
     "text": [
      "col1   -0.377836\n",
      "col2   -0.264210\n",
      "col3   -0.163064\n",
      "dtype: float64\n",
      "       col1      col2      col3\n",
      "0  0.613889 -0.344999 -0.234754\n",
      "1  0.983592 -1.217251  0.986933\n",
      "2 -1.825295 -0.685065  1.433501\n",
      "3 -1.163277 -0.700467 -1.619191\n",
      "4 -0.498090  1.626733 -1.381809\n"
     ]
    }
   ],
   "source": [
    "df = (pd.DataFrame(np.random.randn(5,3),columns=['col1','col2', 'col3']))\n",
    "df.applymap(lambda x:x*100)#applymap--applied on each element\n",
    "print(df.apply(np.mean))\n",
    "print(df)"
   ]
  },
  {
   "cell_type": "markdown",
   "metadata": {},
   "source": [
    "# 6. Pandas Reindexing and Ffill NaNs"
   ]
  },
  {
   "cell_type": "code",
   "execution_count": 107,
   "metadata": {},
   "outputs": [],
   "source": [
    "df = pd.DataFrame({\"A\":pd.date_range(start = '2019-01-01', end = '2019-01-15', freq='D')})\n"
   ]
  },
  {
   "cell_type": "code",
   "execution_count": 113,
   "metadata": {},
   "outputs": [
    {
     "name": "stdout",
     "output_type": "stream",
     "text": [
      "       col1      col2      col3\n",
      "0 -1.384360  0.596049  0.345840\n",
      "1  1.804514  0.307193 -0.974779\n",
      "2 -0.356155 -1.920409  0.166671\n",
      "3 -1.656833  0.217248  1.021462\n",
      "4 -1.277552  0.762256  1.751645\n",
      "5 -0.285831 -0.365362 -0.300753\n",
      "       col1      col2      col3\n",
      "0  1.572297  0.481063 -0.352418\n",
      "1 -0.170338 -0.486357  0.838570\n",
      "       col1      col2      col3\n",
      "0  1.572297  0.481063 -0.352418\n",
      "1 -0.170338 -0.486357  0.838570\n",
      "2       NaN       NaN       NaN\n",
      "3       NaN       NaN       NaN\n",
      "4       NaN       NaN       NaN\n",
      "5       NaN       NaN       NaN\n",
      "       col1      col2      col3\n",
      "0  1.572297  0.481063 -0.352418\n",
      "1 -0.170338 -0.486357  0.838570\n",
      "2 -0.170338 -0.486357  0.838570\n",
      "3 -0.170338 -0.486357  0.838570\n",
      "4 -0.170338 -0.486357  0.838570\n",
      "5 -0.170338 -0.486357  0.838570\n"
     ]
    }
   ],
   "source": [
    "df1 = pd.DataFrame(np.random.randn(6,3), columns=['col1', 'col2','col3'])\n",
    "df2 = pd.DataFrame(np.random.randn(2,3), columns=['col1', 'col2','col3'])\n",
    "#padding NaNs\n",
    "print(df1)\n",
    "print(df2)\n",
    "print(df2.reindex_like(df1))\n",
    "# Fill the NaNs with the preceding values and Forward fill with limit 1 \n",
    "print (df2.reindex_like(df1 , method = 'ffill', limit=1))"
   ]
  },
  {
   "cell_type": "markdown",
   "metadata": {},
   "source": [
    "# 7.Renaming the columns"
   ]
  },
  {
   "cell_type": "code",
   "execution_count": 125,
   "metadata": {},
   "outputs": [
    {
     "name": "stdout",
     "output_type": "stream",
     "text": [
      "       col1      col2      col3\n",
      "0 -0.026923 -0.941085  1.036271\n",
      "1  1.168219 -0.694037  0.103143\n",
      "2 -1.012039 -0.011596  0.374923\n",
      "3 -0.845256  0.810269  0.699461\n",
      "4 -1.082437 -0.200754  1.821134\n",
      "5 -0.095287  0.272928  1.930855\n",
      "None\n"
     ]
    }
   ],
   "source": [
    "df1 = pd.DataFrame(np.random.randn(6,3), columns=['col1', 'col2','col3'])\n",
    "print(df1)\n",
    "#inplace overwrites the previous data permanently\n",
    "df2 = df1.rename(columns={'col1':'c1', 'col2':'c2','col3':'c3'}, inplace= True)\n",
    "print(df2)\n"
   ]
  },
  {
   "cell_type": "code",
   "execution_count": 124,
   "metadata": {},
   "outputs": [
    {
     "name": "stdout",
     "output_type": "stream",
     "text": [
      "         c1        c2        c3\n",
      "0 -1.136020 -0.941328 -0.576160\n",
      "1 -0.512055 -0.657526 -1.417633\n",
      "2  0.945900 -0.361482 -0.664844\n",
      "3  0.763932 -1.276809  0.171405\n",
      "4  0.209022  0.861821  1.470136\n",
      "5  0.129869 -1.381148 -1.187338\n"
     ]
    }
   ],
   "source": [
    "print(df1)"
   ]
  },
  {
   "cell_type": "markdown",
   "metadata": {},
   "source": [
    "# Iteration"
   ]
  },
  {
   "cell_type": "code",
   "execution_count": 132,
   "metadata": {},
   "outputs": [
    {
     "name": "stdout",
     "output_type": "stream",
     "text": [
      "A 0    2019-01-01\n",
      "1    2019-01-02\n",
      "2    2019-01-03\n",
      "3    2019-01-04\n",
      "4    2019-01-05\n",
      "5    2019-01-06\n",
      "6    2019-01-07\n",
      "7    2019-01-08\n",
      "8    2019-01-09\n",
      "9    2019-01-10\n",
      "10   2019-01-11\n",
      "11   2019-01-12\n",
      "12   2019-01-13\n",
      "13   2019-01-14\n",
      "14   2019-01-15\n",
      "Name: A, dtype: datetime64[ns]\n",
      "0 c1   -0.026923\n",
      "c2   -0.941085\n",
      "c3    1.036271\n",
      "Name: 0, dtype: float64\n",
      "1 c1    1.168219\n",
      "c2   -0.694037\n",
      "c3    0.103143\n",
      "Name: 1, dtype: float64\n",
      "2 c1   -1.012039\n",
      "c2   -0.011596\n",
      "c3    0.374923\n",
      "Name: 2, dtype: float64\n",
      "3 c1   -0.845256\n",
      "c2    0.810269\n",
      "c3    0.699461\n",
      "Name: 3, dtype: float64\n",
      "4 c1   -1.082437\n",
      "c2   -0.200754\n",
      "c3    1.821134\n",
      "Name: 4, dtype: float64\n",
      "5 c1   -0.095287\n",
      "c2    0.272928\n",
      "c3    1.930855\n",
      "Name: 5, dtype: float64\n",
      "Pandas(Index=0, c1=-0.026922664154907062, c2=-0.9410849850227798, c3=1.0362708535723353)\n",
      "Pandas(Index=1, c1=1.168218660538198, c2=-0.6940366300359458, c3=0.10314283940663828)\n",
      "Pandas(Index=2, c1=-1.0120390027429353, c2=-0.011595940000394933, c3=0.37492323690364376)\n",
      "Pandas(Index=3, c1=-0.8452562250861383, c2=0.8102693277093598, c3=0.6994609049263004)\n",
      "Pandas(Index=4, c1=-1.0824373204804163, c2=-0.20075362415800646, c3=1.8211339328521794)\n",
      "Pandas(Index=5, c1=-0.09528702771536861, c2=0.2729283729943442, c3=1.9308545815788802)\n"
     ]
    }
   ],
   "source": [
    "for key, value in df.iteritems():#iterate over the (key value) pairs\n",
    "    print( key, value)\n",
    "for r, w in df1.iterrows():#iterate over the rows as (index, series) pairs\n",
    "    print (r,w)\n",
    "for t in df1.itertuples():#iterate over the rows as named tuples\n",
    "    print (t)"
   ]
  },
  {
   "cell_type": "markdown",
   "metadata": {},
   "source": [
    "# 8.Pandas sorting\n"
   ]
  },
  {
   "cell_type": "code",
   "execution_count": 138,
   "metadata": {},
   "outputs": [
    {
     "name": "stdout",
     "output_type": "stream",
     "text": [
      "         c1        c2        c3\n",
      "0 -0.026923 -0.941085  1.036271\n",
      "1  1.168219 -0.694037  0.103143\n",
      "2 -1.012039 -0.011596  0.374923\n",
      "3 -0.845256  0.810269  0.699461\n",
      "4 -1.082437 -0.200754  1.821134\n",
      "5 -0.095287  0.272928  1.930855\n",
      "         c1        c2        c3\n",
      "5 -0.095287  0.272928  1.930855\n",
      "4 -1.082437 -0.200754  1.821134\n",
      "3 -0.845256  0.810269  0.699461\n",
      "2 -1.012039 -0.011596  0.374923\n",
      "1  1.168219 -0.694037  0.103143\n",
      "0 -0.026923 -0.941085  1.036271\n"
     ]
    }
   ],
   "source": [
    "sorted_df = df1.sort_index()#index ascending sorting\n",
    "print(sorted)\n",
    "sorted_descending = df1.sort_index(ascending= False)#index descending sorting\n",
    "print(sorted_descending)"
   ]
  },
  {
   "cell_type": "code",
   "execution_count": 155,
   "metadata": {},
   "outputs": [
    {
     "name": "stdout",
     "output_type": "stream",
     "text": [
      "         c1        c2        c3\n",
      "4 -1.082437 -0.200754  1.821134\n",
      "2 -1.012039 -0.011596  0.374923\n",
      "3 -0.845256  0.810269  0.699461\n",
      "5 -0.095287  0.272928  1.930855\n",
      "0 -0.026923 -0.941085  1.036271\n",
      "1  1.168219 -0.694037  0.103143\n",
      "         c1        c2        c3\n",
      "1  1.168219 -0.694037  0.103143\n",
      "0 -0.026923 -0.941085  1.036271\n",
      "5 -0.095287  0.272928  1.930855\n",
      "3 -0.845256  0.810269  0.699461\n",
      "2 -1.012039 -0.011596  0.374923\n",
      "4 -1.082437 -0.200754  1.821134\n",
      "         c1        c2        c3\n",
      "4 -1.082437 -0.200754  1.821134\n",
      "2 -1.012039 -0.011596  0.374923\n",
      "3 -0.845256  0.810269  0.699461\n",
      "5 -0.095287  0.272928  1.930855\n",
      "0 -0.026923 -0.941085  1.036271\n",
      "1  1.168219 -0.694037  0.103143\n"
     ]
    }
   ],
   "source": [
    "sorted_df1 = df1.sort_values(by= ['c1', 'c2','c3'])\n",
    "print(sorted_df1) \n",
    "sorted_descending1 = df1.sort_values(by= ['c1', 'c2','c3'],ascending= False)\n",
    "print(sorted_descending1)\n",
    "#If we observe here only column C1 looks sorted\n",
    "# for all columns to be sorted use kind='mergesort'\n",
    "sorted_descending2 = df1.sort_values(by=['c1','c2','c3'], kind= 'mergesort')\n",
    "print(sorted_descending2)"
   ]
  },
  {
   "cell_type": "markdown",
   "metadata": {},
   "source": [
    "# 9.Pandas text data"
   ]
  },
  {
   "cell_type": "code",
   "execution_count": 179,
   "metadata": {},
   "outputs": [
    {
     "name": "stdout",
     "output_type": "stream",
     "text": [
      "0       [john]\n",
      "1    [william]\n",
      "2        [bob]\n",
      "3     [albert]\n",
      "dtype: object\n",
      "0       john\n",
      "1    william\n",
      "2        bob\n",
      "3     albert\n",
      "dtype: object\n",
      "0       [john]\n",
      "1    [william]\n",
      "2        [bob]\n",
      "3     [albert]\n",
      "dtype: object\n",
      "Categorize data john_william_bob_albert\n",
      "   albert  bob  john  william\n",
      "0       0    0     1        0\n",
      "1       0    0     0        1\n",
      "2       0    1     0        0\n",
      "3       1    0     0        0\n",
      "0       john\n",
      "1    william\n",
      "2    william\n",
      "3     albert\n",
      "dtype: object\n",
      "0    0\n",
      "1    1\n",
      "2    0\n",
      "3    0\n",
      "dtype: int64\n"
     ]
    }
   ],
   "source": [
    "s = pd.Series(['john', 'william', 'bob', 'albert'])\n",
    "print(s.str.split('/'))\n",
    "print(s.str.strip(''))\n",
    "print(s.str.split(','))\n",
    "print(\"Categorize data\",s.str.cat(sep='_'))# categorise data according to the seperator\n",
    "print(s.str.get_dummies())#get dataframe values with one hot encoded values\n",
    "print(s.str.replace('bob','william'))\n",
    "print(s.str.count('m'))\n",
    "\n",
    "\n",
    "\n",
    "\n",
    "\n"
   ]
  },
  {
   "cell_type": "markdown",
   "metadata": {},
   "source": [
    "# Indexing and Selecting Data"
   ]
  },
  {
   "cell_type": "code",
   "execution_count": 16,
   "metadata": {},
   "outputs": [
    {
     "name": "stdout",
     "output_type": "stream",
     "text": [
      "       col1      col2      col3\n",
      "0  0.556951  0.369140 -0.897321\n",
      "1 -2.404834 -0.478476 -0.695247\n",
      "2 -1.184781  0.574870 -0.874594\n",
      "3 -0.099172 -2.204612  0.040845\n",
      "4  0.207065  1.164806 -1.430330\n",
      "5  1.314735  0.328723 -2.110858\n"
     ]
    },
    {
     "data": {
      "text/html": [
       "<div>\n",
       "<style scoped>\n",
       "    .dataframe tbody tr th:only-of-type {\n",
       "        vertical-align: middle;\n",
       "    }\n",
       "\n",
       "    .dataframe tbody tr th {\n",
       "        vertical-align: top;\n",
       "    }\n",
       "\n",
       "    .dataframe thead th {\n",
       "        text-align: right;\n",
       "    }\n",
       "</style>\n",
       "<table border=\"1\" class=\"dataframe\">\n",
       "  <thead>\n",
       "    <tr style=\"text-align: right;\">\n",
       "      <th></th>\n",
       "      <th>col1</th>\n",
       "      <th>col2</th>\n",
       "      <th>col3</th>\n",
       "    </tr>\n",
       "  </thead>\n",
       "  <tbody>\n",
       "    <tr>\n",
       "      <th>0</th>\n",
       "      <td>0.556951</td>\n",
       "      <td>0.36914</td>\n",
       "      <td>-0.897321</td>\n",
       "    </tr>\n",
       "  </tbody>\n",
       "</table>\n",
       "</div>"
      ],
      "text/plain": [
       "       col1     col2      col3\n",
       "0  0.556951  0.36914 -0.897321"
      ]
     },
     "execution_count": 16,
     "metadata": {},
     "output_type": "execute_result"
    }
   ],
   "source": [
    "import numpy as np\n",
    "import pandas as pd\n",
    "df1 = pd.DataFrame(np.random.randn(6,3), columns=['col1', 'col2','col3'])\n",
    "print(df1)\n",
    "df1[:1]# before : is start row number and after : is end row number"
   ]
  },
  {
   "cell_type": "code",
   "execution_count": 25,
   "metadata": {},
   "outputs": [
    {
     "name": "stdout",
     "output_type": "stream",
     "text": [
      "0   -0.514537\n",
      "1    0.836881\n",
      "2   -1.554767\n",
      "3    1.301962\n",
      "4    1.885663\n",
      "5   -1.051200\n",
      "Name: col2, dtype: float64\n",
      "       col1      col2      col3\n",
      "0  0.690514 -0.514537  1.215554\n",
      "1  0.482796  0.836881 -2.113495\n",
      "2  1.675759 -1.554767  1.007674\n",
      "3 -0.032361  1.301962 -0.814227\n",
      "4  1.213201  1.885663  1.095442\n",
      "5 -0.043107 -1.051200 -0.806976\n",
      "       col2      col1\n",
      "0 -0.514537  0.690514\n",
      "1  0.836881  0.482796\n",
      "2 -1.554767  1.675759\n",
      "3  1.301962 -0.032361\n",
      "4  1.885663  1.213201\n",
      "5 -1.051200 -0.043107\n",
      "0     True\n",
      "1     True\n",
      "2     True\n",
      "3    False\n",
      "4     True\n",
      "5    False\n",
      "Name: col1, dtype: bool\n"
     ]
    }
   ],
   "source": [
    "#label based indexing(loc[rowsm label,columns label])\n",
    "print(df1.loc[: ,'col2'])#select all rows of specific column\n",
    "print(df1.loc[: ,['col1','col2', 'col3']])#select rows for multiple columns\n",
    "print(df1.loc[ [0,1,2,3,4,5 ],['col2','col1']])\n",
    "# For getting values with boolean array\n",
    "print (df1.loc[:, 'col1']>0)\n"
   ]
  },
  {
   "cell_type": "code",
   "execution_count": 28,
   "metadata": {},
   "outputs": [
    {
     "name": "stdout",
     "output_type": "stream",
     "text": [
      "       col1      col2      col3\n",
      "0  0.690514 -0.514537  1.215554\n",
      "1  0.482796  0.836881 -2.113495\n",
      "col1    1.675759\n",
      "col2   -1.554767\n",
      "col3    1.007674\n",
      "Name: 2, dtype: float64\n",
      "       col1      col2\n",
      "0  0.690514 -0.514537\n",
      "1  0.482796  0.836881\n",
      "col1   -0.043107\n",
      "col2   -1.051200\n",
      "Name: 5, dtype: float64\n"
     ]
    }
   ],
   "source": [
    "# iloc integer based zero based indexing\n",
    "print(df1.iloc[: 2])# select 2 number of rows of all columns\n",
    "print(df1.iloc[2])# select 2nd row of all columns\n",
    "print(df1.iloc[:2,: 2])# select 2 rows and 2 columns\n",
    "print(df1.iloc[-1, :-1])#select last row and all columns excluding last column(-1)"
   ]
  },
  {
   "cell_type": "markdown",
   "metadata": {},
   "source": [
    "# Pandas statistical functions"
   ]
  },
  {
   "cell_type": "code",
   "execution_count": 46,
   "metadata": {},
   "outputs": [
    {
     "name": "stdout",
     "output_type": "stream",
     "text": [
      "0         NaN\n",
      "1    1.000000\n",
      "2    1.000000\n",
      "3    0.750000\n",
      "4    0.142857\n",
      "5    0.500000\n",
      "6    0.250000\n",
      "7    0.333333\n",
      "dtype: float64\n",
      "   col1       col2      col3\n",
      "0   NaN  -1.745150 -3.362424\n",
      "1   NaN   0.733405 -3.525442\n",
      "2   NaN  -1.927799 -1.648119\n",
      "3   NaN -41.232748 -1.625385\n",
      "4   NaN   0.554287 -0.419068\n",
      "5   NaN  23.385793 -0.232329\n"
     ]
    }
   ],
   "source": [
    "s = pd.Series([1,2,4,7,8,12,15,20])\n",
    "print(s.pct_change())# function compares every elemwnt with its previous element and computes the percentage change\n",
    "#if  you want to apply the pct change row wise then use (axis = 1())\n",
    "print(df1.pct_change(axis = 1))#axis = 1 rowwise percentage changed"
   ]
  },
  {
   "cell_type": "code",
   "execution_count": null,
   "metadata": {},
   "outputs": [],
   "source": [
    "#to find the correlation between two datasets df1 & s\n",
    "print(df1.corrwith(s))\n",
    "# to find the covariance\n",
    "print(df1.cov())\n"
   ]
  },
  {
   "cell_type": "markdown",
   "metadata": {},
   "source": [
    "# Pandas moving average"
   ]
  },
  {
   "cell_type": "code",
   "execution_count": 6,
   "metadata": {},
   "outputs": [
    {
     "name": "stdout",
     "output_type": "stream",
     "text": [
      "                   A         B         C         D\n",
      "2000-01-01       NaN       NaN       NaN       NaN\n",
      "2000-01-02       NaN       NaN       NaN       NaN\n",
      "2000-01-03 -0.971241 -0.270846 -0.088957 -0.025574\n",
      "2000-01-04 -0.144846  0.646490 -0.893971 -0.475697\n",
      "2000-01-05 -0.169796  1.194537 -1.590698 -0.762501\n",
      "2000-01-06  0.815618  0.849314 -0.794992 -0.452980\n",
      "2000-01-07  0.425860  0.308316  0.203911 -0.280267\n",
      "2000-01-08  0.398858  0.471712  0.667259  0.153120\n",
      "2000-01-09 -0.094125  0.744597  0.247986 -0.522459\n",
      "2000-01-10  0.254520  0.776245 -0.594432 -0.119478\n"
     ]
    },
    {
     "data": {
      "text/plain": [
       "<matplotlib.axes._subplots.AxesSubplot at 0x26fa740ba60>"
      ]
     },
     "execution_count": 6,
     "metadata": {},
     "output_type": "execute_result"
    },
    {
     "data": {
      "image/png": "[encoded data removed]",
      "text/plain": [
       "<Figure size 432x288 with 1 Axes>"
      ]
     },
     "metadata": {
      "needs_background": "light"
     },
     "output_type": "display_data"
    },
    {
     "data": {
      "image/png": "[encoded data removed]",
      "text/plain": [
       "<Figure size 432x288 with 1 Axes>"
      ]
     },
     "metadata": {
      "needs_background": "light"
     },
     "output_type": "display_data"
    }
   ],
   "source": [
    "import pandas as pd\n",
    "import numpy as np\n",
    "\n",
    "df = pd.DataFrame(np.random.randn(10, 4),index = pd.date_range('1/1/2000', periods=10),columns = ['A', 'B', 'C', 'D'])\n",
    "r =  df.rolling(window=3).mean()\n",
    "print (df.rolling(window=3).mean())\n",
    "df.plot()\n",
    "r.plot()"
   ]
  },
  {
   "cell_type": "markdown",
   "metadata": {},
   "source": [
    "# Pandas missing Data"
   ]
  },
  {
   "cell_type": "code",
   "execution_count": 12,
   "metadata": {},
   "outputs": [
    {
     "name": "stdout",
     "output_type": "stream",
     "text": [
      "        one       two     three\n",
      "a  1.311440 -1.652964  0.325045\n",
      "b       NaN       NaN       NaN\n",
      "c  0.335115 -0.228245  1.455605\n",
      "d       NaN       NaN       NaN\n",
      "e  0.001189  0.671224  1.498574\n",
      "f -0.206913  0.143473 -1.981590\n",
      "g       NaN       NaN       NaN\n",
      "h  2.214811 -0.003967  1.524558\n",
      "     one    two  three\n",
      "a  False  False  False\n",
      "b   True   True   True\n",
      "c  False  False  False\n",
      "d   True   True   True\n",
      "e  False  False  False\n",
      "f  False  False  False\n",
      "g   True   True   True\n",
      "h  False  False  False\n",
      "     one    two  three\n",
      "a   True   True   True\n",
      "b  False  False  False\n",
      "c   True   True   True\n",
      "d  False  False  False\n",
      "e   True   True   True\n",
      "f   True   True   True\n",
      "g  False  False  False\n",
      "h   True   True   True\n"
     ]
    }
   ],
   "source": [
    "#NaN - Not a number\n",
    "df1 = pd.DataFrame(np.random.randn(5, 3),index = ['a','c','e','f','h'],columns = ['one','two','three'])\n",
    "df1 = df1.reindex(['a','b','c','d','e','f','g','h'])\n",
    "print(df1)\n",
    "print(df1.isnull())# to check for missing values\n",
    "print(df1.notnull())# to check for missing values"
   ]
  },
  {
   "cell_type": "code",
   "execution_count": 25,
   "metadata": {},
   "outputs": [
    {
     "name": "stdout",
     "output_type": "stream",
     "text": [
      "        one       two     three\n",
      "a -2.104962 -0.715575  0.249245\n",
      "b       NaN       NaN       NaN\n",
      "c  1.350016  1.102769 -0.723536\n"
     ]
    },
    {
     "data": {
      "text/html": [
       "<div>\n",
       "<style scoped>\n",
       "    .dataframe tbody tr th:only-of-type {\n",
       "        vertical-align: middle;\n",
       "    }\n",
       "\n",
       "    .dataframe tbody tr th {\n",
       "        vertical-align: top;\n",
       "    }\n",
       "\n",
       "    .dataframe thead th {\n",
       "        text-align: right;\n",
       "    }\n",
       "</style>\n",
       "<table border=\"1\" class=\"dataframe\">\n",
       "  <thead>\n",
       "    <tr style=\"text-align: right;\">\n",
       "      <th></th>\n",
       "      <th>one</th>\n",
       "      <th>two</th>\n",
       "      <th>three</th>\n",
       "    </tr>\n",
       "  </thead>\n",
       "  <tbody>\n",
       "    <tr>\n",
       "      <th>a</th>\n",
       "      <td>-2.104962</td>\n",
       "      <td>-0.715575</td>\n",
       "      <td>0.249245</td>\n",
       "    </tr>\n",
       "    <tr>\n",
       "      <th>b</th>\n",
       "      <td>0.000000</td>\n",
       "      <td>0.000000</td>\n",
       "      <td>0.000000</td>\n",
       "    </tr>\n",
       "    <tr>\n",
       "      <th>c</th>\n",
       "      <td>1.350016</td>\n",
       "      <td>1.102769</td>\n",
       "      <td>-0.723536</td>\n",
       "    </tr>\n",
       "  </tbody>\n",
       "</table>\n",
       "</div>"
      ],
      "text/plain": [
       "        one       two     three\n",
       "a -2.104962 -0.715575  0.249245\n",
       "b  0.000000  0.000000  0.000000\n",
       "c  1.350016  1.102769 -0.723536"
      ]
     },
     "execution_count": 25,
     "metadata": {},
     "output_type": "execute_result"
    }
   ],
   "source": [
    "# to replace NaNs with 0\n",
    "df1 = pd.DataFrame(np.random.randn(3, 3),index = ['a','c','e'],columns = ['one','two','three'])\n",
    "df1 = df1.reindex(['a','b','c'])\n",
    "print(df1)\n",
    "df1.fillna(0)\n",
    "\n"
   ]
  },
  {
   "cell_type": "code",
   "execution_count": 36,
   "metadata": {},
   "outputs": [
    {
     "name": "stdout",
     "output_type": "stream",
     "text": [
      "        one       two     three\n",
      "a -1.363868 -1.469669 -1.083093\n",
      "b       NaN       NaN       NaN\n",
      "c  3.308423 -0.075665  0.261393\n",
      "d       NaN       NaN       NaN\n",
      "e -2.412630  2.958445 -0.618095\n",
      "f       NaN       NaN       NaN\n",
      "        one       two     three\n",
      "a -1.363868 -1.469669 -1.083093\n",
      "b -1.363868 -1.469669 -1.083093\n",
      "c  3.308423 -0.075665  0.261393\n",
      "d  3.308423 -0.075665  0.261393\n",
      "e -2.412630  2.958445 -0.618095\n",
      "f -2.412630  2.958445 -0.618095\n",
      "        one       two     three\n",
      "a -1.363868 -1.469669 -1.083093\n",
      "b  3.308423 -0.075665  0.261393\n",
      "c  3.308423 -0.075665  0.261393\n",
      "d -2.412630  2.958445 -0.618095\n",
      "e -2.412630  2.958445 -0.618095\n",
      "f       NaN       NaN       NaN\n",
      "        one       two     three\n",
      "a -1.363868 -1.469669 -1.083093\n",
      "c  3.308423 -0.075665  0.261393\n",
      "e -2.412630  2.958445 -0.618095\n",
      "Empty DataFrame\n",
      "Columns: []\n",
      "Index: [a, b, c, d, e, f]\n"
     ]
    }
   ],
   "source": [
    "# Forward Fill & Backward fill\n",
    "df1 = pd.DataFrame(np.random.randn(3, 3),index = ['a','c','e'],columns = ['one','two','three'])\n",
    "df1 = df1.reindex (['a', 'b','c','d','e','f'])\n",
    "print(df1)\n",
    "print(df1.fillna(method='pad'))#method pad means forward fill\n",
    "print(df1.fillna(method='backfill'))#method backfill means backward fill\n",
    "print(df1.dropna()) #exludes rows with Na values\n",
    "print(df1.dropna(axis=1))# axis= 1 drops all columns with na values"
   ]
  },
  {
   "cell_type": "code",
   "execution_count": 55,
   "metadata": {},
   "outputs": [
    {
     "name": "stdout",
     "output_type": "stream",
     "text": [
      "   one  two\n",
      "0    1   20\n",
      "1    3   34\n",
      "2    5    2\n",
      "3    6    6\n",
      "4    7   77\n",
      "5    8  776\n"
     ]
    }
   ],
   "source": [
    "#replace any value in  data frame with any value\n",
    "df1 = pd.DataFrame({'one':[1,3,5,6,7,8],'two':[20,34,55,66,77,776]})\n",
    "\n",
    "df2 = df1.replace({55:2, 66:6})\n",
    "print(df2)\n"
   ]
  },
  {
   "cell_type": "markdown",
   "metadata": {},
   "source": [
    "# Pandas groupby"
   ]
  },
  {
   "cell_type": "code",
   "execution_count": 58,
   "metadata": {},
   "outputs": [
    {
     "name": "stdout",
     "output_type": "stream",
     "text": [
      "      Team  Rank  Year  Points\n",
      "0   Riders     1  2014     876\n",
      "1   Riders     2  2015     789\n",
      "2   Devils     2  2014     863\n",
      "3   Devils     3  2015     673\n",
      "4    Kings     3  2014     741\n",
      "5    kings     4  2015     812\n",
      "6    Kings     1  2016     756\n",
      "7    Kings     1  2017     788\n",
      "8   Riders     2  2016     694\n",
      "9   Royals     4  2014     701\n",
      "10  Royals     1  2015     804\n",
      "11  Riders     2  2017     690\n"
     ]
    }
   ],
   "source": [
    "##split data into groups \n",
    "ipl_data = {'Team': ['Riders', 'Riders', 'Devils', 'Devils', 'Kings',\n",
    "         'kings', 'Kings', 'Kings', 'Riders', 'Royals', 'Royals', 'Riders'],\n",
    "         'Rank': [1, 2, 2, 3, 3,4 ,1 ,1,2 , 4,1,2],\n",
    "         'Year': [2014,2015,2014,2015,2014,2015,2016,2017,2016,2014,2015,2017],\n",
    "         'Points':[876,789,863,673,741,812,756,788,694,701,804,690]}\n",
    "df = pd.DataFrame(ipl_data)\n",
    "\n",
    "print( df)"
   ]
  },
  {
   "cell_type": "code",
   "execution_count": 67,
   "metadata": {},
   "outputs": [
    {
     "name": "stdout",
     "output_type": "stream",
     "text": [
      "{('Devils', 2014): Int64Index([2], dtype='int64'), ('Devils', 2015): Int64Index([3], dtype='int64'), ('Kings', 2014): Int64Index([4], dtype='int64'), ('Kings', 2016): Int64Index([6], dtype='int64'), ('Kings', 2017): Int64Index([7], dtype='int64'), ('Riders', 2014): Int64Index([0], dtype='int64'), ('Riders', 2015): Int64Index([1], dtype='int64'), ('Riders', 2016): Int64Index([8], dtype='int64'), ('Riders', 2017): Int64Index([11], dtype='int64'), ('Royals', 2014): Int64Index([9], dtype='int64'), ('Royals', 2015): Int64Index([10], dtype='int64'), ('kings', 2015): Int64Index([5], dtype='int64')}\n"
     ]
    }
   ],
   "source": [
    "# group by team and year\n",
    "df1 = df.groupby(['Team','Year']).groups\n",
    "print(df1)"
   ]
  },
  {
   "cell_type": "code",
   "execution_count": 76,
   "metadata": {},
   "outputs": [
    {
     "name": "stdout",
     "output_type": "stream",
     "text": [
      "(2014, 'Devils')\n",
      "     Team  Rank  Year  Points\n",
      "2  Devils     2  2014     863\n",
      "(2014, 'Kings')\n",
      "    Team  Rank  Year  Points\n",
      "4  Kings     3  2014     741\n",
      "(2014, 'Riders')\n",
      "     Team  Rank  Year  Points\n",
      "0  Riders     1  2014     876\n",
      "(2014, 'Royals')\n",
      "     Team  Rank  Year  Points\n",
      "9  Royals     4  2014     701\n",
      "(2015, 'Devils')\n",
      "     Team  Rank  Year  Points\n",
      "3  Devils     3  2015     673\n",
      "(2015, 'Riders')\n",
      "     Team  Rank  Year  Points\n",
      "1  Riders     2  2015     789\n",
      "(2015, 'Royals')\n",
      "      Team  Rank  Year  Points\n",
      "10  Royals     1  2015     804\n",
      "(2015, 'kings')\n",
      "    Team  Rank  Year  Points\n",
      "5  kings     4  2015     812\n",
      "(2016, 'Kings')\n",
      "    Team  Rank  Year  Points\n",
      "6  Kings     1  2016     756\n",
      "(2016, 'Riders')\n",
      "     Team  Rank  Year  Points\n",
      "8  Riders     2  2016     694\n",
      "(2017, 'Kings')\n",
      "    Team  Rank  Year  Points\n",
      "7  Kings     1  2017     788\n",
      "(2017, 'Riders')\n",
      "      Team  Rank  Year  Points\n",
      "11  Riders     2  2017     690\n"
     ]
    }
   ],
   "source": [
    "# iterating through groups\n",
    "df2 = df.groupby(['Year','Team'])\n",
    "for name , group in df2:\n",
    "    print(name)\n",
    "    print(group)\n",
    "   "
   ]
  },
  {
   "cell_type": "code",
   "execution_count": 81,
   "metadata": {},
   "outputs": [
    {
     "name": "stdout",
     "output_type": "stream",
     "text": [
      "     Team  Rank  Year  Points\n",
      "0  Riders     1  2014     876\n",
      "2  Devils     2  2014     863\n",
      "4   Kings     3  2014     741\n",
      "9  Royals     4  2014     701\n"
     ]
    }
   ],
   "source": [
    "# To get particular group use get_group\n",
    "df3 = df.groupby(['Year'])\n",
    "print(df3.get_group(2014))"
   ]
  },
  {
   "cell_type": "markdown",
   "metadata": {},
   "source": [
    "# Merging and joining"
   ]
  },
  {
   "cell_type": "code",
   "execution_count": 97,
   "metadata": {},
   "outputs": [
    {
     "name": "stdout",
     "output_type": "stream",
     "text": [
      "   id  Name_x subject_id_x Name_y subject_id_y\n",
      "0   1    Alex         sub1  Billy         sub2\n",
      "1   2     Amy         sub2  Brian         sub4\n",
      "2   3   Allen         sub4   Bran         sub3\n",
      "3   4   Alice         sub6  Bryce         sub6\n",
      "4   5  Ayoung         sub5  Betty         sub5\n"
     ]
    }
   ],
   "source": [
    "left = pd.DataFrame({\n",
    "         'id':[1,2,3,4,5],\n",
    "         'Name': ['Alex', 'Amy', 'Allen', 'Alice', 'Ayoung'],\n",
    "         'subject_id':['sub1','sub2','sub4','sub6','sub5']})\n",
    "right = pd.DataFrame(\n",
    "         {'id':[1,2,3,4,5],\n",
    "         'Name': ['Billy', 'Brian', 'Bran', 'Bryce', 'Betty'],\n",
    "         'subject_id':['sub2','sub4','sub3','sub6','sub5']})\n",
    "print(pd.merge(left, right, on = 'id'))"
   ]
  },
  {
   "cell_type": "code",
   "execution_count": 104,
   "metadata": {},
   "outputs": [
    {
     "name": "stdout",
     "output_type": "stream",
     "text": [
      "   id  Name_x subject_id Name_y\n",
      "0   4   Alice       sub6  Bryce\n",
      "1   5  Ayoung       sub5  Betty\n"
     ]
    }
   ],
   "source": [
    "print(pd.merge(left, right, on = ['id','subject_id']))\n",
    "# for left right outer and inner join use how=''\n",
    "#print(pd.merge(left, right, on ='id',how= 'inner'/'outer'/'left'/'right'))"
   ]
  },
  {
   "cell_type": "markdown",
   "metadata": {},
   "source": [
    "# Pandas Concatenation\n"
   ]
  },
  {
   "cell_type": "code",
   "execution_count": 10,
   "metadata": {},
   "outputs": [
    {
     "name": "stdout",
     "output_type": "stream",
     "text": [
      "     id    Name subject_id\n",
      "a 0   1    Alex       sub1\n",
      "  1   2     Amy       sub2\n",
      "  2   3   Allen       sub4\n",
      "  3   4   Alice       sub6\n",
      "  4   5  Ayoung       sub5\n",
      "b 0   1   Billy       sub2\n",
      "  1   2   Brian       sub4\n",
      "  2   3    Bran       sub3\n",
      "  3   4   Bryce       sub6\n",
      "  4   5   Betty       sub5\n",
      "   id    Name subject_id\n",
      "0   1    Alex       sub1\n",
      "1   2     Amy       sub2\n",
      "2   3   Allen       sub4\n",
      "3   4   Alice       sub6\n",
      "4   5  Ayoung       sub5\n",
      "5   1   Billy       sub2\n",
      "6   2   Brian       sub4\n",
      "7   3    Bran       sub3\n",
      "8   4   Bryce       sub6\n",
      "9   5   Betty       sub5\n",
      "   id    Name subject_id  id   Name subject_id\n",
      "0   1    Alex       sub1   1  Billy       sub2\n",
      "1   2     Amy       sub2   2  Brian       sub4\n",
      "2   3   Allen       sub4   3   Bran       sub3\n",
      "3   4   Alice       sub6   4  Bryce       sub6\n",
      "4   5  Ayoung       sub5   5  Betty       sub5\n"
     ]
    }
   ],
   "source": [
    "import pandas as pd\n",
    "\n",
    "one = pd.DataFrame({\n",
    "         'id':[1,2,3,4,5],\n",
    "         'Name': ['Alex', 'Amy', 'Allen', 'Alice', 'Ayoung'],\n",
    "         'subject_id':['sub1','sub2','sub4','sub6','sub5']})\n",
    "two = pd.DataFrame(\n",
    "         {'id':[1,2,3,4,5],\n",
    "         'Name': ['Billy', 'Brian', 'Bran', 'Bryce', 'Betty'],\n",
    "         'subject_id':['sub2','sub4','sub3','sub6','sub5']})\n",
    "print(pd.concat([one, two ], keys=['a','b'])) # keys can be anything like x and y , a and b\n",
    "print(pd.concat([one, two ],ignore_index = True))#ignore index corrects unordered index\n",
    "print(pd.concat([one, two ], axis = 1))#to append columns use axis = 1"
   ]
  },
  {
   "cell_type": "markdown",
   "metadata": {},
   "source": [
    "# Pandas date functionality"
   ]
  },
  {
   "cell_type": "code",
   "execution_count": 11,
   "metadata": {},
   "outputs": [
    {
     "name": "stdout",
     "output_type": "stream",
     "text": [
      "DatetimeIndex(['2020-01-01', '2020-01-02', '2020-01-03', '2020-01-04',\n",
      "               '2020-01-05'],\n",
      "              dtype='datetime64[ns]', freq='D')\n"
     ]
    }
   ],
   "source": [
    "import pandas as pd\n",
    "df = pd.date_range('1-1-2020', periods=5)# default frequency of range is Days\n",
    "print(df)"
   ]
  },
  {
   "cell_type": "code",
   "execution_count": 13,
   "metadata": {},
   "outputs": [
    {
     "name": "stdout",
     "output_type": "stream",
     "text": [
      "DatetimeIndex(['2020-01-31', '2020-02-29', '2020-03-31', '2020-04-30',\n",
      "               '2020-05-31'],\n",
      "              dtype='datetime64[ns]', freq='M')\n"
     ]
    }
   ],
   "source": [
    "df = pd.date_range('1-1-2020', periods=5, freq='M')#  frequency of range is Month\n",
    "print(df)"
   ]
  },
  {
   "cell_type": "code",
   "execution_count": 14,
   "metadata": {},
   "outputs": [
    {
     "name": "stdout",
     "output_type": "stream",
     "text": [
      "DatetimeIndex(['2020-01-01', '2020-01-02', '2020-01-03', '2020-01-06',\n",
      "               '2020-01-07'],\n",
      "              dtype='datetime64[ns]', freq='B')\n"
     ]
    }
   ],
   "source": [
    "df = pd.bdate_range('1-1-2020', periods=5)#bdate means buisness date range from 1-1-2020 to 1-02-2020\n",
    "print(df)"
   ]
  },
  {
   "cell_type": "code",
   "execution_count": null,
   "metadata": {},
   "outputs": [],
   "source": [
    "# we can use frequency aliases like M ,W ,D, B(BUISNESS DAY FR), Q(QUARTERS), A(ANNUAL),H(HOURLY), S(SECONDS) ETC."
   ]
  },
  {
   "cell_type": "markdown",
   "metadata": {},
   "source": [
    "# Pandas data visualisation"
   ]
  },
  {
   "cell_type": "code",
   "execution_count": 18,
   "metadata": {},
   "outputs": [
    {
     "data": {
      "text/plain": [
       "<matplotlib.axes._subplots.AxesSubplot at 0x25bb3ee4d30>"
      ]
     },
     "execution_count": 18,
     "metadata": {},
     "output_type": "execute_result"
    },
    {
     "data": {
      "image/png": "[encoded data removed]",
      "text/plain": [
       "<Figure size 432x288 with 1 Axes>"
      ]
     },
     "metadata": {
      "needs_background": "light"
     },
     "output_type": "display_data"
    },
    {
     "data": {
      "image/png": "[encoded data removed]",
      "text/plain": [
       "<Figure size 432x288 with 1 Axes>"
      ]
     },
     "metadata": {
      "needs_background": "light"
     },
     "output_type": "display_data"
    }
   ],
   "source": [
    "import pandas as pd\n",
    "import numpy as np \n",
    "\n",
    "df = pd.DataFrame(np.random.randn(10,4), index = pd.date_range('1-1-2020', periods= 10),\n",
    "                  columns= list('ABCD') )# rather than writing 'A','B','C', 'D' write list('ABCD')\n",
    "df.plot()\n",
    "df.plot.bar()"
   ]
  },
  {
   "cell_type": "code",
   "execution_count": 19,
   "metadata": {},
   "outputs": [
    {
     "data": {
      "text/plain": [
       "<matplotlib.axes._subplots.AxesSubplot at 0x25bb3fd7070>"
      ]
     },
     "execution_count": 19,
     "metadata": {},
     "output_type": "execute_result"
    },
    {
     "data": {
      "image/png": "[encoded data removed]",
      "text/plain": [
       "<Figure size 432x288 with 1 Axes>"
      ]
     },
     "metadata": {
      "needs_background": "light"
     },
     "output_type": "display_data"
    }
   ],
   "source": [
    "df.plot.bar(stacked = True) # for stacked bar plot use (stacked  = True)"
   ]
  },
  {
   "cell_type": "code",
   "execution_count": 20,
   "metadata": {},
   "outputs": [
    {
     "data": {
      "text/plain": [
       "<matplotlib.axes._subplots.AxesSubplot at 0x25bb500e880>"
      ]
     },
     "execution_count": 20,
     "metadata": {},
     "output_type": "execute_result"
    },
    {
     "data": {
      "image/png": "[encoded data removed]",
      "text/plain": [
       "<Figure size 432x288 with 1 Axes>"
      ]
     },
     "metadata": {
      "needs_background": "light"
     },
     "output_type": "display_data"
    }
   ],
   "source": [
    "df.plot.barh(stacked=True)# barh is used for horizontal bar plot"
   ]
  },
  {
   "cell_type": "code",
   "execution_count": 28,
   "metadata": {},
   "outputs": [
    {
     "data": {
      "text/plain": [
       "<matplotlib.axes._subplots.AxesSubplot at 0x25bb59729d0>"
      ]
     },
     "execution_count": 28,
     "metadata": {},
     "output_type": "execute_result"
    },
    {
     "data": {
      "image/png": "[encoded data removed]",
      "text/plain": [
       "<Figure size 432x288 with 1 Axes>"
      ]
     },
     "metadata": {
      "needs_background": "light"
     },
     "output_type": "display_data"
    },
    {
     "data": {
      "image/png": "[encoded data removed]",
      "text/plain": [
       "<Figure size 432x288 with 1 Axes>"
      ]
     },
     "metadata": {
      "needs_background": "light"
     },
     "output_type": "display_data"
    }
   ],
   "source": [
    "df.plot.hist()\n",
    "df.plot.hist(bins=20)\n"
   ]
  },
  {
   "cell_type": "code",
   "execution_count": 30,
   "metadata": {},
   "outputs": [
    {
     "data": {
      "text/plain": [
       "<matplotlib.axes._subplots.AxesSubplot at 0x25bb5ba0070>"
      ]
     },
     "execution_count": 30,
     "metadata": {},
     "output_type": "execute_result"
    },
    {
     "data": {
      "image/png": "[encoded data removed]",
      "text/plain": [
       "<Figure size 432x288 with 1 Axes>"
      ]
     },
     "metadata": {
      "needs_background": "light"
     },
     "output_type": "display_data"
    }
   ],
   "source": [
    "df.plot.box()\n"
   ]
  },
  {
   "cell_type": "code",
   "execution_count": 55,
   "metadata": {},
   "outputs": [
    {
     "data": {
      "text/plain": [
       "<matplotlib.axes._subplots.AxesSubplot at 0x25bb5b07460>"
      ]
     },
     "execution_count": 55,
     "metadata": {},
     "output_type": "execute_result"
    },
    {
     "data": {
      "image/png": "[encoded data removed]",
      "text/plain": [
       "<Figure size 432x288 with 1 Axes>"
      ]
     },
     "metadata": {
      "needs_background": "light"
     },
     "output_type": "display_data"
    }
   ],
   "source": [
    "s = pd.DataFrame(np.random.randn(4,4), columns=('a','b','c','d'))\n",
    "s.plot.scatter(x='a',y='b')# defining x and y is must"
   ]
  },
  {
   "cell_type": "code",
   "execution_count": 67,
   "metadata": {},
   "outputs": [
    {
     "data": {
      "text/plain": [
       "array([<matplotlib.axes._subplots.AxesSubplot object at 0x0000025BB6F0EFA0>],\n",
       "      dtype=object)"
      ]
     },
     "execution_count": 67,
     "metadata": {},
     "output_type": "execute_result"
    },
    {
     "data": {
      "image/png": "[encoded data removed]",
      "text/plain": [
       "<Figure size 432x288 with 1 Axes>"
      ]
     },
     "metadata": {},
     "output_type": "display_data"
    }
   ],
   "source": [
    "s = pd.DataFrame(pd.Series([73,33,44,55]))\n",
    "s.plot.pie(subplots=True)#must contain subplot or y values"
   ]
  },
  {
   "cell_type": "markdown",
   "metadata": {},
   "source": [
    "# Pandas reading csv files"
   ]
  },
  {
   "cell_type": "code",
   "execution_count": 9,
   "metadata": {},
   "outputs": [
    {
     "name": "stdout",
     "output_type": "stream",
     "text": [
      "   total_bill   tip     sex smoker  day    time  size\n",
      "0       16.99  1.01  Female     No  Sun  Dinner     2\n",
      "1       10.34  1.66    Male     No  Sun  Dinner     3\n",
      "2       21.01  3.50    Male     No  Sun  Dinner     3\n",
      "3       23.68  3.31    Male     No  Sun  Dinner     2\n",
      "4       24.59  3.61  Female     No  Sun  Dinner     4\n"
     ]
    }
   ],
   "source": [
    "import pandas as pd\n",
    "url = 'https://raw.githubusercontent.com/pandas-dev/pandas/master/doc/data/tips.csv'\n",
    "tips = pd.read_csv(url, index_col=False,)\n",
    "print (tips.head())"
   ]
  },
  {
   "cell_type": "code",
   "execution_count": 10,
   "metadata": {},
   "outputs": [
    {
     "name": "stdout",
     "output_type": "stream",
     "text": [
      "sex\n",
      "Female     87\n",
      "Male      157\n",
      "dtype: int64\n"
     ]
    }
   ],
   "source": [
    "#Group by gives the count of records\n",
    "print(tips.groupby('sex').size())"
   ]
  },
  {
   "cell_type": "code",
   "execution_count": 13,
   "metadata": {},
   "outputs": [
    {
     "name": "stdout",
     "output_type": "stream",
     "text": [
      "     total_bill   tip     sex smoker   day    time  size\n",
      "0         16.99  1.01  Female     No   Sun  Dinner     2\n",
      "1         10.34  1.66    Male     No   Sun  Dinner     3\n",
      "2         21.01  3.50    Male     No   Sun  Dinner     3\n",
      "3         23.68  3.31    Male     No   Sun  Dinner     2\n",
      "4         24.59  3.61  Female     No   Sun  Dinner     4\n",
      "..          ...   ...     ...    ...   ...     ...   ...\n",
      "239       29.03  5.92    Male     No   Sat  Dinner     3\n",
      "240       27.18  2.00  Female    Yes   Sat  Dinner     2\n",
      "241       22.67  2.00    Male    Yes   Sat  Dinner     2\n",
      "242       17.82  1.75    Male     No   Sat  Dinner     2\n",
      "243       18.78  3.00  Female     No  Thur  Dinner     2\n",
      "\n",
      "[176 rows x 7 columns]\n"
     ]
    }
   ],
   "source": [
    "# where clause in Pandas ( where time is Dinner)\n",
    "\n",
    "print(tips[tips['time']=='Dinner'])"
   ]
  },
  {
   "cell_type": "code",
   "execution_count": 24,
   "metadata": {},
   "outputs": [
    {
     "name": "stdout",
     "output_type": "stream",
     "text": [
      "      tip smoker\n",
      "0    1.01     No\n",
      "1    1.66     No\n",
      "2    3.50     No\n",
      "3    3.31     No\n",
      "4    3.61     No\n",
      "..    ...    ...\n",
      "239  5.92     No\n",
      "240  2.00    Yes\n",
      "241  2.00    Yes\n",
      "242  1.75     No\n",
      "243  3.00     No\n",
      "\n",
      "[244 rows x 2 columns]\n"
     ]
    }
   ],
   "source": [
    "print(tips[['tip','smoker']])"
   ]
  },
  {
   "cell_type": "code",
   "execution_count": null,
   "metadata": {},
   "outputs": [],
   "source": []
  }
 ],
 "metadata": {
  "kernelspec": {
   "display_name": "Python 3",
   "language": "python",
   "name": "python3"
  },
  "language_info": {
   "codemirror_mode": {
    "name": "ipython",
    "version": 3
   },
   "file_extension": ".py",
   "mimetype": "text/x-python",
   "name": "python",
   "nbconvert_exporter": "python",
   "pygments_lexer": "ipython3",
   "version": "3.8.3"
  }
 },
 "nbformat": 4,
 "nbformat_minor": 4
}
