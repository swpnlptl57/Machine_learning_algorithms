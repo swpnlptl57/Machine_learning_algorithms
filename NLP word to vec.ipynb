{
 "cells": [
  {
   "cell_type": "code",
   "execution_count": null,
   "metadata": {},
   "outputs": [],
   "source": [
    "# in word to vec eachword is represented as vector of 32 or more dimensions\n",
    "# here semantic information and relation between different words  is also preserved"
   ]
  },
  {
   "cell_type": "code",
   "execution_count": 9,
   "metadata": {},
   "outputs": [],
   "source": [
    "import nltk\n",
    "import re"
   ]
  },
  {
   "cell_type": "code",
   "execution_count": 10,
   "metadata": {},
   "outputs": [],
   "source": [
    "from gensim.models import Word2Vec\n",
    "from nltk.corpus import stopwords\n"
   ]
  },
  {
   "cell_type": "code",
   "execution_count": 11,
   "metadata": {},
   "outputs": [],
   "source": [
    "paragraph = \"\"\"Among the activities we have planned are workshops about the evolution of individual car models such as the Thunderbird and the Mustang as well as demonstrations of the performance characteristics of our newest American offerings.\n",
    "\n",
    "Please consult your conference brochures for specific events. In the exhibition hall you will be able to visit each of the manufacturers of our fine American automobiles as well as the booths of our valued partners who support the industry in various ways. Don't forget to enter all the raffles and drawings for the latest accessories, tickets to NASCAR races and even a 2007 Corvette.\n",
    "\n",
    "Folks, you are lucky to be here this year because we have some tremendous events planned for each day of the conference.\n",
    "\n",
    "Tonight is our opening banquet with our keynote speaker, Lee Roker. Tomorrow we have the Winner's Circle cocktail hour hosted by many of our fine sponsors. On closing day we will have a Texas style barbecue starting at 1 o'clock on the terrace outside the exhibition hall.\n",
    "\n",
    "I know most of you are already members of ACE but for those of you who aren't, I urge you to fill out a membership application so that you can enjoy all the benefits that our members enjoy here, including discounts for the field trips we have planned and a subscription to our fine newsletter, ACE Quarterly.\"\"\""
   ]
  },
  {
   "cell_type": "code",
   "execution_count": 12,
   "metadata": {},
   "outputs": [],
   "source": [
    "# preprocessing the data\n",
    "\n",
    "text = re.sub(r'\\[[0-9]*\\]', ' ', paragraph)\n",
    "text = re.sub(r'\\s+',' ', text)\n",
    "text = text.lower() # since capital and lower letters should not be treated differently\n",
    "text = re.sub(r'\\d+',' ', text)\n",
    "text = re.sub(r'\\s+',' ', text)"
   ]
  },
  {
   "cell_type": "code",
   "execution_count": 17,
   "metadata": {},
   "outputs": [],
   "source": [
    "#preparing the dataset\n",
    "sentences =  nltk.sent_tokenize(text) #coverting the paragraph into list sentences\n",
    "\n",
    "sentences = [nltk.word_tokenize(sentence) for sentence in sentences]# convert all sentences in to list of words looping through all sentences"
   ]
  },
  {
   "cell_type": "code",
   "execution_count": 18,
   "metadata": {},
   "outputs": [],
   "source": [
    "for i in range(len(sentences)):\n",
    "    sentences[i] =[ word for word in sentences[i] if word not in stopwords.words('english')]"
   ]
  },
  {
   "cell_type": "code",
   "execution_count": 28,
   "metadata": {},
   "outputs": [
    {
     "name": "stdout",
     "output_type": "stream",
     "text": [
      "[ 2.6682357e-03  2.2008175e-03 -1.1292194e-03  2.0012441e-03\n",
      " -4.9404306e-03 -4.0388829e-03  2.6905176e-03  2.2029872e-03\n",
      "  1.6118740e-03  4.8727519e-03 -1.2043024e-03 -1.4566877e-03\n",
      "  6.7055269e-05 -3.7103381e-03 -3.7183845e-03  4.8294617e-03\n",
      "  2.1919862e-03  2.9033639e-03 -2.9930954e-03 -1.9614978e-03\n",
      " -1.0858176e-03  3.3362085e-05  1.1717759e-03 -4.1052443e-03\n",
      "  2.2509370e-03  1.5525126e-03 -2.3944397e-03  2.1627028e-03\n",
      "  2.3608834e-03 -2.9171095e-03 -4.4587366e-03  2.2011774e-03\n",
      "  4.3880136e-04  2.1903408e-03  1.4196838e-04  3.4582289e-03\n",
      "  2.6871620e-03  4.9683279e-03  4.2251937e-04  4.0516383e-03\n",
      "  6.3680549e-04 -2.8079520e-03 -4.2957140e-04  1.5750347e-03\n",
      "  3.4327249e-03  1.1108717e-03 -2.0612613e-03  5.5354547e-05\n",
      " -2.9068682e-03 -1.6980802e-03 -4.2533828e-03  3.9450009e-03\n",
      " -1.8740949e-03 -2.4403399e-03  3.8446111e-03  2.0610499e-03\n",
      "  3.0977863e-03  3.8385238e-03  2.9483249e-03  5.9897400e-04\n",
      " -9.5597585e-04 -1.2339880e-03 -3.4799438e-03  4.2729010e-03\n",
      "  1.0940419e-03 -2.1572649e-03  3.5396675e-03  1.5372667e-03\n",
      " -1.3607059e-03  7.8948127e-04  5.9610751e-04 -1.7936833e-03\n",
      "  1.1611959e-03 -2.0752400e-03 -2.7241611e-03 -4.4494569e-03\n",
      "  3.3094471e-03 -4.9402681e-03  3.2673997e-03 -3.3909448e-03\n",
      " -3.0386664e-03  1.9127455e-03  4.1194852e-03  3.8599747e-03\n",
      " -2.3234964e-03 -2.6195985e-03  2.3456551e-03 -2.2826254e-04\n",
      "  5.5161957e-04  3.1377482e-03  2.0861053e-03  3.1744933e-03\n",
      " -2.4712768e-03 -2.0911642e-03 -1.0301494e-03  2.2577089e-03\n",
      "  2.1447649e-03  3.2004470e-03 -5.7036325e-04 -2.4498662e-04]\n",
      "{'among': <gensim.models.keyedvectors.Vocab object at 0x00000186C81D4DC0>, 'activities': <gensim.models.keyedvectors.Vocab object at 0x00000186C81D44C0>, 'planned': <gensim.models.keyedvectors.Vocab object at 0x00000186C81D41F0>, 'workshops': <gensim.models.keyedvectors.Vocab object at 0x00000186C8A04670>, 'evolution': <gensim.models.keyedvectors.Vocab object at 0x00000186C8A040D0>, 'individual': <gensim.models.keyedvectors.Vocab object at 0x00000186C9548AF0>, 'car': <gensim.models.keyedvectors.Vocab object at 0x00000186C9548730>, 'models': <gensim.models.keyedvectors.Vocab object at 0x00000186C95487C0>, 'thunderbird': <gensim.models.keyedvectors.Vocab object at 0x00000186C9548280>, 'mustang': <gensim.models.keyedvectors.Vocab object at 0x00000186C9548880>, 'well': <gensim.models.keyedvectors.Vocab object at 0x00000186C9548B80>, 'demonstrations': <gensim.models.keyedvectors.Vocab object at 0x00000186C95480A0>, 'performance': <gensim.models.keyedvectors.Vocab object at 0x00000186C9548190>, 'characteristics': <gensim.models.keyedvectors.Vocab object at 0x00000186C9548070>, 'newest': <gensim.models.keyedvectors.Vocab object at 0x00000186C9548220>, 'american': <gensim.models.keyedvectors.Vocab object at 0x00000186C95484F0>, 'offerings': <gensim.models.keyedvectors.Vocab object at 0x00000186C9548BB0>, '.': <gensim.models.keyedvectors.Vocab object at 0x00000186C95489A0>, 'please': <gensim.models.keyedvectors.Vocab object at 0x00000186C9548040>, 'consult': <gensim.models.keyedvectors.Vocab object at 0x00000186C95481C0>, 'conference': <gensim.models.keyedvectors.Vocab object at 0x00000186C9548400>, 'brochures': <gensim.models.keyedvectors.Vocab object at 0x00000186C77801C0>, 'specific': <gensim.models.keyedvectors.Vocab object at 0x00000186C7780130>, 'events': <gensim.models.keyedvectors.Vocab object at 0x00000186C7780100>, 'exhibition': <gensim.models.keyedvectors.Vocab object at 0x00000186C79FB8E0>, 'hall': <gensim.models.keyedvectors.Vocab object at 0x00000186C79FB850>, 'able': <gensim.models.keyedvectors.Vocab object at 0x00000186C85AC3D0>, 'visit': <gensim.models.keyedvectors.Vocab object at 0x00000186C81DA160>, 'manufacturers': <gensim.models.keyedvectors.Vocab object at 0x00000186C81DA3A0>, 'fine': <gensim.models.keyedvectors.Vocab object at 0x00000186C81DA5E0>, 'automobiles': <gensim.models.keyedvectors.Vocab object at 0x00000186C81DA280>, 'booths': <gensim.models.keyedvectors.Vocab object at 0x00000186C81DA5B0>, 'valued': <gensim.models.keyedvectors.Vocab object at 0x00000186C7C62FA0>, 'partners': <gensim.models.keyedvectors.Vocab object at 0x00000186C7C62F10>, 'support': <gensim.models.keyedvectors.Vocab object at 0x00000186C78A6AF0>, 'industry': <gensim.models.keyedvectors.Vocab object at 0x00000186C78A6BB0>, 'various': <gensim.models.keyedvectors.Vocab object at 0x00000186C89EE070>, 'ways': <gensim.models.keyedvectors.Vocab object at 0x00000186C89EEF70>, \"n't\": <gensim.models.keyedvectors.Vocab object at 0x00000186C89EE2E0>, 'forget': <gensim.models.keyedvectors.Vocab object at 0x00000186C7D81DF0>, 'enter': <gensim.models.keyedvectors.Vocab object at 0x00000186C7D81EB0>, 'raffles': <gensim.models.keyedvectors.Vocab object at 0x00000186C7AA2DF0>, 'drawings': <gensim.models.keyedvectors.Vocab object at 0x00000186C7247BB0>, 'latest': <gensim.models.keyedvectors.Vocab object at 0x00000186C7247310>, 'accessories': <gensim.models.keyedvectors.Vocab object at 0x00000186C7247970>, ',': <gensim.models.keyedvectors.Vocab object at 0x00000186C78FFA30>, 'tickets': <gensim.models.keyedvectors.Vocab object at 0x00000186C78FF9A0>, 'nascar': <gensim.models.keyedvectors.Vocab object at 0x00000186C78FFA00>, 'races': <gensim.models.keyedvectors.Vocab object at 0x00000186C811C190>, 'even': <gensim.models.keyedvectors.Vocab object at 0x00000186C7BAF640>, 'corvette': <gensim.models.keyedvectors.Vocab object at 0x00000186C7BAF4F0>, 'folks': <gensim.models.keyedvectors.Vocab object at 0x00000186C7BAF5B0>, 'lucky': <gensim.models.keyedvectors.Vocab object at 0x00000186C8B2A8E0>, 'year': <gensim.models.keyedvectors.Vocab object at 0x00000186C8B2A820>, 'tremendous': <gensim.models.keyedvectors.Vocab object at 0x00000186C8B2A790>, 'day': <gensim.models.keyedvectors.Vocab object at 0x00000186C8B2A7F0>, 'tonight': <gensim.models.keyedvectors.Vocab object at 0x00000186C766D490>, 'opening': <gensim.models.keyedvectors.Vocab object at 0x00000186C7A75A30>, 'banquet': <gensim.models.keyedvectors.Vocab object at 0x00000186C7A758E0>, 'keynote': <gensim.models.keyedvectors.Vocab object at 0x00000186C8597D00>, 'speaker': <gensim.models.keyedvectors.Vocab object at 0x00000186C8597910>, 'lee': <gensim.models.keyedvectors.Vocab object at 0x00000186C85978E0>, 'roker': <gensim.models.keyedvectors.Vocab object at 0x00000186C8597640>, 'tomorrow': <gensim.models.keyedvectors.Vocab object at 0x00000186C8597AC0>, 'winner': <gensim.models.keyedvectors.Vocab object at 0x00000186C8597940>, \"'s\": <gensim.models.keyedvectors.Vocab object at 0x00000186C8597C70>, 'circle': <gensim.models.keyedvectors.Vocab object at 0x00000186C85971C0>, 'cocktail': <gensim.models.keyedvectors.Vocab object at 0x00000186C8597E20>, 'hour': <gensim.models.keyedvectors.Vocab object at 0x00000186C953D7C0>, 'hosted': <gensim.models.keyedvectors.Vocab object at 0x00000186C953D910>, 'many': <gensim.models.keyedvectors.Vocab object at 0x00000186C953D670>, 'sponsors': <gensim.models.keyedvectors.Vocab object at 0x00000186C953DA30>, 'closing': <gensim.models.keyedvectors.Vocab object at 0x00000186C953D9A0>, 'texas': <gensim.models.keyedvectors.Vocab object at 0x00000186C953DFD0>, 'style': <gensim.models.keyedvectors.Vocab object at 0x00000186C953D8B0>, 'barbecue': <gensim.models.keyedvectors.Vocab object at 0x00000186C953D130>, 'starting': <gensim.models.keyedvectors.Vocab object at 0x00000186C81CCA00>, \"o'clock\": <gensim.models.keyedvectors.Vocab object at 0x00000186C81CCB20>, 'terrace': <gensim.models.keyedvectors.Vocab object at 0x00000186C81CCCA0>, 'outside': <gensim.models.keyedvectors.Vocab object at 0x00000186C81CCFA0>, 'know': <gensim.models.keyedvectors.Vocab object at 0x00000186C81CC2B0>, 'already': <gensim.models.keyedvectors.Vocab object at 0x00000186C81CC670>, 'members': <gensim.models.keyedvectors.Vocab object at 0x00000186C75A94C0>, 'ace': <gensim.models.keyedvectors.Vocab object at 0x00000186C75A93A0>, 'urge': <gensim.models.keyedvectors.Vocab object at 0x00000186C80F71C0>, 'fill': <gensim.models.keyedvectors.Vocab object at 0x00000186C80F79D0>, 'membership': <gensim.models.keyedvectors.Vocab object at 0x00000186C80F7820>, 'application': <gensim.models.keyedvectors.Vocab object at 0x00000186C80F7550>, 'enjoy': <gensim.models.keyedvectors.Vocab object at 0x00000186C71BAB50>, 'benefits': <gensim.models.keyedvectors.Vocab object at 0x00000186C8017790>, 'including': <gensim.models.keyedvectors.Vocab object at 0x00000186C716E100>, 'discounts': <gensim.models.keyedvectors.Vocab object at 0x00000186C81C2490>, 'field': <gensim.models.keyedvectors.Vocab object at 0x00000186C7FC6400>, 'trips': <gensim.models.keyedvectors.Vocab object at 0x00000186C81CAA00>, 'subscription': <gensim.models.keyedvectors.Vocab object at 0x00000186C81CA820>, 'newsletter': <gensim.models.keyedvectors.Vocab object at 0x00000186C81CA910>, 'quarterly': <gensim.models.keyedvectors.Vocab object at 0x00000186C81CA040>}\n"
     ]
    }
   ],
   "source": [
    "# training word2vec model\n",
    "\n",
    "model =  Word2Vec(sentences , min_count=1) # min count is frequncy of words\n",
    "\n",
    "\n",
    "# finding word vectors\n",
    "words = model.wv.vocab\n",
    "vector = model.wv['ace']\n",
    "\n",
    "print(vector)\n",
    "print(words)\n",
    "\n",
    "\n"
   ]
  },
  {
   "cell_type": "code",
   "execution_count": 32,
   "metadata": {},
   "outputs": [
    {
     "name": "stdout",
     "output_type": "stream",
     "text": [
      "[('well', 0.23288577795028687), ('texas', 0.21993504464626312), ('tickets', 0.20197227597236633), ('terrace', 0.19805389642715454), ('partners', 0.19745850563049316), ('tonight', 0.19230446219444275), ('races', 0.188297837972641), ('fill', 0.18771135807037354), ('including', 0.18282777070999146), ('corvette', 0.17899496853351593)]\n"
     ]
    }
   ],
   "source": [
    "# most similar words\n",
    "\n",
    "similar = model.wv.most_similar('ways')\n",
    "print(similar)\n"
   ]
  },
  {
   "cell_type": "code",
   "execution_count": null,
   "metadata": {},
   "outputs": [],
   "source": []
  }
 ],
 "metadata": {
  "kernelspec": {
   "display_name": "Python 3",
   "language": "python",
   "name": "python3"
  },
  "language_info": {
   "codemirror_mode": {
    "name": "ipython",
    "version": 3
   },
   "file_extension": ".py",
   "mimetype": "text/x-python",
   "name": "python",
   "nbconvert_exporter": "python",
   "pygments_lexer": "ipython3",
   "version": "3.8.3"
  }
 },
 "nbformat": 4,
 "nbformat_minor": 4
}
