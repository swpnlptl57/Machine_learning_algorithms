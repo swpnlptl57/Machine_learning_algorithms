{
 "cells": [
  {
   "cell_type": "markdown",
   "metadata": {},
   "source": [
    "# Naive Bayes\n",
    "\n",
    "+ Its generative\n",
    "\n",
    "+ Its Binary CLassifier\n",
    "\n",
    "+ It assumes feature independence\n",
    "\n",
    "+ It is highly scalable\n",
    "\n",
    "+  It is also incremental in nature"
   ]
  },
  {
   "cell_type": "code",
   "execution_count": null,
   "metadata": {},
   "outputs": [],
   "source": [
    "import pandas as pd\n",
    "df = pd.read_csv(\"cleaned_76hd.csv\")"
   ]
  },
  {
   "cell_type": "code",
   "execution_count": null,
   "metadata": {},
   "outputs": [],
   "source": [
    "df.shape"
   ]
  },
  {
   "cell_type": "code",
   "execution_count": null,
   "metadata": {},
   "outputs": [],
   "source": [
    "# Separate Input features X and Class variable Y\n",
    "X = df.iloc[:,:-1]\n",
    "Y = df.iloc[:,-1]"
   ]
  },
  {
   "cell_type": "code",
   "execution_count": 5,
   "metadata": {},
   "outputs": [],
   "source": [
    "from sklearn.model_selection import train_test_split\n",
    "# Split Training and Testing Data\n",
    "X_train,X_test,Y_train,Y_test = train_test_split(X,Y,test_size = 0.3,\n",
    "                                                 random_state=1)"
   ]
  },
  {
   "cell_type": "code",
   "execution_count": 6,
   "metadata": {},
   "outputs": [],
   "source": [
    "from sklearn.naive_bayes import GaussianNB\n",
    "# Initialize a Naive Bayes Model\n",
    "model = GaussianNB()\n",
    "# P(A/B) = P(B/A) * P(A) / P(B)"
   ]
  },
  {
   "cell_type": "code",
   "execution_count": 7,
   "metadata": {},
   "outputs": [
    {
     "data": {
      "text/plain": [
       "GaussianNB(priors=None, var_smoothing=1e-09)"
      ]
     },
     "execution_count": 7,
     "metadata": {},
     "output_type": "execute_result"
    }
   ],
   "source": [
    "# Fit the model on given Data\n",
    "model.fit(X_train,Y_train) # patial fit"
   ]
  },
  {
   "cell_type": "code",
   "execution_count": 8,
   "metadata": {},
   "outputs": [
    {
     "data": {
      "text/plain": [
       "array([0.51269036, 0.48730964])"
      ]
     },
     "execution_count": 8,
     "metadata": {},
     "output_type": "execute_result"
    }
   ],
   "source": [
    "model.class_prior_"
   ]
  },
  {
   "cell_type": "code",
   "execution_count": 9,
   "metadata": {},
   "outputs": [
    {
     "data": {
      "text/plain": [
       "array([101.,  96.])"
      ]
     },
     "execution_count": 9,
     "metadata": {},
     "output_type": "execute_result"
    }
   ],
   "source": [
    "model.class_count_"
   ]
  },
  {
   "cell_type": "code",
   "execution_count": 10,
   "metadata": {},
   "outputs": [],
   "source": [
    "# Predict using Naive Bayes Model\n",
    "Y_predict = model.predict(X_test)"
   ]
  },
  {
   "cell_type": "code",
   "execution_count": 11,
   "metadata": {},
   "outputs": [
    {
     "name": "stdout",
     "output_type": "stream",
     "text": [
      "Confusion Matrix \n",
      " [[52  1]\n",
      " [31  1]]\n",
      "Accuracy :  0.6235294117647059\n"
     ]
    }
   ],
   "source": [
    "from sklearn.metrics import\\\n",
    "confusion_matrix,accuracy_score\n",
    "# Calculate Confusion Matrix\n",
    "cf_mat=confusion_matrix(Y_test,Y_predict)\n",
    "\n",
    "# Calculate Accuracy\n",
    "acc = accuracy_score(Y_test,Y_predict)\n",
    "\n",
    "#Print Results\n",
    "print(\"Confusion Matrix \\n\",cf_mat)\n",
    "print(\"Accuracy : \",acc)"
   ]
  },
  {
   "cell_type": "code",
   "execution_count": 13,
   "metadata": {},
   "outputs": [],
   "source": [
    "from sklearn.tree import DecisionTreeClassifier\n",
    "model = DecisionTreeClassifier()"
   ]
  },
  {
   "cell_type": "code",
   "execution_count": 14,
   "metadata": {},
   "outputs": [
    {
     "data": {
      "text/plain": [
       "DecisionTreeClassifier(ccp_alpha=0.0, class_weight=None, criterion='gini',\n",
       "                       max_depth=None, max_features=None, max_leaf_nodes=None,\n",
       "                       min_impurity_decrease=0.0, min_impurity_split=None,\n",
       "                       min_samples_leaf=1, min_samples_split=2,\n",
       "                       min_weight_fraction_leaf=0.0, presort='deprecated',\n",
       "                       random_state=None, splitter='best')"
      ]
     },
     "execution_count": 14,
     "metadata": {},
     "output_type": "execute_result"
    }
   ],
   "source": [
    "model.fit(X_train,Y_train)"
   ]
  },
  {
   "cell_type": "code",
   "execution_count": 15,
   "metadata": {},
   "outputs": [],
   "source": [
    "Y_predict=model.predict(X_test)"
   ]
  },
  {
   "cell_type": "code",
   "execution_count": 16,
   "metadata": {},
   "outputs": [
    {
     "name": "stdout",
     "output_type": "stream",
     "text": [
      "Confusion Matrix \n",
      " [[37 16]\n",
      " [ 7 25]]\n",
      "Accuracy :  0.7294117647058823\n"
     ]
    }
   ],
   "source": [
    "from sklearn.metrics import confusion_matrix,accuracy_score\n",
    "# Calculate Confusion Matrix\n",
    "cf_mat=confusion_matrix(Y_test,Y_predict)\n",
    "\n",
    "# Calculate Accuracy\n",
    "acc = accuracy_score(Y_test,Y_predict)\n",
    "\n",
    "#Print Results\n",
    "print(\"Confusion Matrix \\n\",cf_mat)\n",
    "print(\"Accuracy : \",acc)"
   ]
  },
  {
   "cell_type": "code",
   "execution_count": 17,
   "metadata": {},
   "outputs": [],
   "source": [
    "from sklearn import tree"
   ]
  },
  {
   "cell_type": "code",
   "execution_count": 18,
   "metadata": {},
   "outputs": [],
   "source": [
    "fn = list(X.columns)\n",
    "cn = ['Healthy', 'HD']"
   ]
  },
  {
   "cell_type": "code",
   "execution_count": 19,
   "metadata": {},
   "outputs": [
    {
     "data": {
      "text/plain": [
       "[Text(165.95689655172413, 207.55636363636364, 'V9 <= 0.019\\ngini = 0.5\\nsamples = 197\\nvalue = [101, 96]\\nclass = Healthy'),\n",
       " Text(92.35862068965517, 187.7890909090909, 'V40 <= 0.315\\ngini = 0.359\\nsamples = 98\\nvalue = [75, 23]\\nclass = Healthy'),\n",
       " Text(69.26896551724138, 168.0218181818182, 'V10 <= 0.824\\ngini = 0.285\\nsamples = 87\\nvalue = [72, 15]\\nclass = Healthy'),\n",
       " Text(57.72413793103448, 148.25454545454545, 'V32 <= 0.462\\ngini = 0.259\\nsamples = 85\\nvalue = [72, 13]\\nclass = Healthy'),\n",
       " Text(23.089655172413792, 128.48727272727274, 'V35 <= 0.486\\ngini = 0.496\\nsamples = 11\\nvalue = [6, 5]\\nclass = Healthy'),\n",
       " Text(11.544827586206896, 108.72, 'gini = 0.0\\nsamples = 4\\nvalue = [0, 4]\\nclass = HD'),\n",
       " Text(34.63448275862069, 108.72, 'V56 <= 0.154\\ngini = 0.245\\nsamples = 7\\nvalue = [6, 1]\\nclass = Healthy'),\n",
       " Text(23.089655172413792, 88.95272727272729, 'gini = 0.0\\nsamples = 1\\nvalue = [0, 1]\\nclass = HD'),\n",
       " Text(46.179310344827584, 88.95272727272729, 'gini = 0.0\\nsamples = 6\\nvalue = [6, 0]\\nclass = Healthy'),\n",
       " Text(92.35862068965517, 128.48727272727274, 'V1 <= 0.987\\ngini = 0.193\\nsamples = 74\\nvalue = [66, 8]\\nclass = Healthy'),\n",
       " Text(80.81379310344828, 108.72, 'V34 <= 0.868\\ngini = 0.173\\nsamples = 73\\nvalue = [66, 7]\\nclass = Healthy'),\n",
       " Text(69.26896551724138, 88.95272727272729, 'V29 <= 0.595\\ngini = 0.153\\nsamples = 72\\nvalue = [66, 6]\\nclass = Healthy'),\n",
       " Text(57.72413793103448, 69.18545454545455, 'gini = 0.0\\nsamples = 41\\nvalue = [41, 0]\\nclass = Healthy'),\n",
       " Text(80.81379310344828, 69.18545454545455, 'V57 <= 0.97\\ngini = 0.312\\nsamples = 31\\nvalue = [25, 6]\\nclass = Healthy'),\n",
       " Text(57.72413793103448, 49.418181818181836, 'V12 <= 0.224\\ngini = 0.49\\nsamples = 7\\nvalue = [3, 4]\\nclass = HD'),\n",
       " Text(46.179310344827584, 29.650909090909096, 'gini = 0.0\\nsamples = 3\\nvalue = [3, 0]\\nclass = Healthy'),\n",
       " Text(69.26896551724138, 29.650909090909096, 'gini = 0.0\\nsamples = 4\\nvalue = [0, 4]\\nclass = HD'),\n",
       " Text(103.90344827586206, 49.418181818181836, 'V21 <= 0.043\\ngini = 0.153\\nsamples = 24\\nvalue = [22, 2]\\nclass = Healthy'),\n",
       " Text(92.35862068965517, 29.650909090909096, 'V43 <= 0.435\\ngini = 0.444\\nsamples = 3\\nvalue = [1, 2]\\nclass = HD'),\n",
       " Text(80.81379310344828, 9.883636363636384, 'gini = 0.0\\nsamples = 2\\nvalue = [0, 2]\\nclass = HD'),\n",
       " Text(103.90344827586206, 9.883636363636384, 'gini = 0.0\\nsamples = 1\\nvalue = [1, 0]\\nclass = Healthy'),\n",
       " Text(115.44827586206895, 29.650909090909096, 'gini = 0.0\\nsamples = 21\\nvalue = [21, 0]\\nclass = Healthy'),\n",
       " Text(92.35862068965517, 88.95272727272729, 'gini = 0.0\\nsamples = 1\\nvalue = [0, 1]\\nclass = HD'),\n",
       " Text(103.90344827586206, 108.72, 'gini = 0.0\\nsamples = 1\\nvalue = [0, 1]\\nclass = HD'),\n",
       " Text(80.81379310344828, 148.25454545454545, 'gini = 0.0\\nsamples = 2\\nvalue = [0, 2]\\nclass = HD'),\n",
       " Text(115.44827586206895, 168.0218181818182, 'V41 <= 0.75\\ngini = 0.397\\nsamples = 11\\nvalue = [3, 8]\\nclass = HD'),\n",
       " Text(103.90344827586206, 148.25454545454545, 'gini = 0.0\\nsamples = 8\\nvalue = [0, 8]\\nclass = HD'),\n",
       " Text(126.99310344827586, 148.25454545454545, 'gini = 0.0\\nsamples = 3\\nvalue = [3, 0]\\nclass = Healthy'),\n",
       " Text(239.5551724137931, 187.7890909090909, 'V40 <= 0.113\\ngini = 0.387\\nsamples = 99\\nvalue = [26, 73]\\nclass = HD'),\n",
       " Text(190.4896551724138, 168.0218181818182, 'V44 <= 0.167\\ngini = 0.496\\nsamples = 33\\nvalue = [18, 15]\\nclass = Healthy'),\n",
       " Text(161.62758620689655, 148.25454545454545, 'V30 <= 0.517\\ngini = 0.363\\nsamples = 21\\nvalue = [16, 5]\\nclass = Healthy'),\n",
       " Text(138.53793103448277, 128.48727272727274, 'V10 <= 0.744\\ngini = 0.208\\nsamples = 17\\nvalue = [15, 2]\\nclass = Healthy'),\n",
       " Text(126.99310344827586, 108.72, 'gini = 0.0\\nsamples = 14\\nvalue = [14, 0]\\nclass = Healthy'),\n",
       " Text(150.08275862068965, 108.72, 'V34 <= 0.818\\ngini = 0.444\\nsamples = 3\\nvalue = [1, 2]\\nclass = HD'),\n",
       " Text(138.53793103448277, 88.95272727272729, 'gini = 0.0\\nsamples = 2\\nvalue = [0, 2]\\nclass = HD'),\n",
       " Text(161.62758620689655, 88.95272727272729, 'gini = 0.0\\nsamples = 1\\nvalue = [1, 0]\\nclass = Healthy'),\n",
       " Text(184.71724137931034, 128.48727272727274, 'V43 <= 0.163\\ngini = 0.375\\nsamples = 4\\nvalue = [1, 3]\\nclass = HD'),\n",
       " Text(173.17241379310343, 108.72, 'gini = 0.0\\nsamples = 1\\nvalue = [1, 0]\\nclass = Healthy'),\n",
       " Text(196.26206896551724, 108.72, 'gini = 0.0\\nsamples = 3\\nvalue = [0, 3]\\nclass = HD'),\n",
       " Text(219.35172413793103, 148.25454545454545, 'V1 <= 0.892\\ngini = 0.278\\nsamples = 12\\nvalue = [2, 10]\\nclass = HD'),\n",
       " Text(207.80689655172412, 128.48727272727274, 'gini = 0.0\\nsamples = 10\\nvalue = [0, 10]\\nclass = HD'),\n",
       " Text(230.8965517241379, 128.48727272727274, 'gini = 0.0\\nsamples = 2\\nvalue = [2, 0]\\nclass = Healthy'),\n",
       " Text(288.6206896551724, 168.0218181818182, 'V32 <= 0.756\\ngini = 0.213\\nsamples = 66\\nvalue = [8, 58]\\nclass = HD'),\n",
       " Text(265.5310344827586, 148.25454545454545, 'V3 <= 0.865\\ngini = 0.148\\nsamples = 62\\nvalue = [5, 57]\\nclass = HD'),\n",
       " Text(253.98620689655172, 128.48727272727274, 'V34 <= 0.699\\ngini = 0.123\\nsamples = 61\\nvalue = [4, 57]\\nclass = HD'),\n",
       " Text(230.8965517241379, 108.72, 'V10 <= 0.568\\ngini = 0.069\\nsamples = 56\\nvalue = [2, 54]\\nclass = HD'),\n",
       " Text(219.35172413793103, 88.95272727272729, 'V56 <= 0.025\\ngini = 0.298\\nsamples = 11\\nvalue = [2, 9]\\nclass = HD'),\n",
       " Text(207.80689655172412, 69.18545454545455, 'gini = 0.0\\nsamples = 1\\nvalue = [1, 0]\\nclass = Healthy'),\n",
       " Text(230.8965517241379, 69.18545454545455, 'V33 <= 0.11\\ngini = 0.18\\nsamples = 10\\nvalue = [1, 9]\\nclass = HD'),\n",
       " Text(219.35172413793103, 49.418181818181836, 'gini = 0.0\\nsamples = 1\\nvalue = [1, 0]\\nclass = Healthy'),\n",
       " Text(242.44137931034481, 49.418181818181836, 'gini = 0.0\\nsamples = 9\\nvalue = [0, 9]\\nclass = HD'),\n",
       " Text(242.44137931034481, 88.95272727272729, 'gini = 0.0\\nsamples = 45\\nvalue = [0, 45]\\nclass = HD'),\n",
       " Text(277.07586206896553, 108.72, 'V24 <= 0.5\\ngini = 0.48\\nsamples = 5\\nvalue = [2, 3]\\nclass = HD'),\n",
       " Text(265.5310344827586, 88.95272727272729, 'gini = 0.0\\nsamples = 3\\nvalue = [0, 3]\\nclass = HD'),\n",
       " Text(288.6206896551724, 88.95272727272729, 'gini = 0.0\\nsamples = 2\\nvalue = [2, 0]\\nclass = Healthy'),\n",
       " Text(277.07586206896553, 128.48727272727274, 'gini = 0.0\\nsamples = 1\\nvalue = [1, 0]\\nclass = Healthy'),\n",
       " Text(311.7103448275862, 148.25454545454545, 'V38 <= 0.5\\ngini = 0.375\\nsamples = 4\\nvalue = [3, 1]\\nclass = Healthy'),\n",
       " Text(300.1655172413793, 128.48727272727274, 'gini = 0.0\\nsamples = 3\\nvalue = [3, 0]\\nclass = Healthy'),\n",
       " Text(323.2551724137931, 128.48727272727274, 'gini = 0.0\\nsamples = 1\\nvalue = [0, 1]\\nclass = HD')]"
      ]
     },
     "execution_count": 19,
     "metadata": {},
     "output_type": "execute_result"
    },
    {
     "data": {
      "image/png": "[encoded data removed]",
      "text/plain": [
       "<Figure size 432x288 with 1 Axes>"
      ]
     },
     "metadata": {
      "needs_background": "light"
     },
     "output_type": "display_data"
    }
   ],
   "source": [
    "tree.plot_tree(model,feature_names = fn, \n",
    "               class_names=cn,\n",
    "               filled = True)"
   ]
  },
  {
   "cell_type": "code",
   "execution_count": 22,
   "metadata": {},
   "outputs": [
    {
     "name": "stderr",
     "output_type": "stream",
     "text": [
      "D:\\Installed_new\\Anaconda\\lib\\site-packages\\sklearn\\utils\\deprecation.py:144: FutureWarning: The sklearn.tree.export module is  deprecated in version 0.22 and will be removed in version 0.24. The corresponding classes / functions should instead be imported from sklearn.tree. Anything that cannot be imported from sklearn.tree is now part of the private API.\n",
      "  warnings.warn(message, FutureWarning)\n"
     ]
    }
   ],
   "source": [
    "from sklearn.tree.export import export_text\n",
    "tree_rules = export_text(model, feature_names=fn)"
   ]
  },
  {
   "cell_type": "code",
   "execution_count": 24,
   "metadata": {},
   "outputs": [
    {
     "name": "stdout",
     "output_type": "stream",
     "text": [
      "|--- V9 <= 0.02\n",
      "|   |--- V40 <= 0.31\n",
      "|   |   |--- V10 <= 0.82\n",
      "|   |   |   |--- V32 <= 0.46\n",
      "|   |   |   |   |--- V35 <= 0.49\n",
      "|   |   |   |   |   |--- class: 1.0\n",
      "|   |   |   |   |--- V35 >  0.49\n",
      "|   |   |   |   |   |--- V56 <= 0.15\n",
      "|   |   |   |   |   |   |--- class: 1.0\n",
      "|   |   |   |   |   |--- V56 >  0.15\n",
      "|   |   |   |   |   |   |--- class: 0.0\n",
      "|   |   |   |--- V32 >  0.46\n",
      "|   |   |   |   |--- V1 <= 0.99\n",
      "|   |   |   |   |   |--- V34 <= 0.87\n",
      "|   |   |   |   |   |   |--- V29 <= 0.59\n",
      "|   |   |   |   |   |   |   |--- class: 0.0\n",
      "|   |   |   |   |   |   |--- V29 >  0.59\n",
      "|   |   |   |   |   |   |   |--- V57 <= 0.97\n",
      "|   |   |   |   |   |   |   |   |--- V12 <= 0.22\n",
      "|   |   |   |   |   |   |   |   |   |--- class: 0.0\n",
      "|   |   |   |   |   |   |   |   |--- V12 >  0.22\n",
      "|   |   |   |   |   |   |   |   |   |--- class: 1.0\n",
      "|   |   |   |   |   |   |   |--- V57 >  0.97\n",
      "|   |   |   |   |   |   |   |   |--- V21 <= 0.04\n",
      "|   |   |   |   |   |   |   |   |   |--- V43 <= 0.44\n",
      "|   |   |   |   |   |   |   |   |   |   |--- class: 1.0\n",
      "|   |   |   |   |   |   |   |   |   |--- V43 >  0.44\n",
      "|   |   |   |   |   |   |   |   |   |   |--- class: 0.0\n",
      "|   |   |   |   |   |   |   |   |--- V21 >  0.04\n",
      "|   |   |   |   |   |   |   |   |   |--- class: 0.0\n",
      "|   |   |   |   |   |--- V34 >  0.87\n",
      "|   |   |   |   |   |   |--- class: 1.0\n",
      "|   |   |   |   |--- V1 >  0.99\n",
      "|   |   |   |   |   |--- class: 1.0\n",
      "|   |   |--- V10 >  0.82\n",
      "|   |   |   |--- class: 1.0\n",
      "|   |--- V40 >  0.31\n",
      "|   |   |--- V41 <= 0.75\n",
      "|   |   |   |--- class: 1.0\n",
      "|   |   |--- V41 >  0.75\n",
      "|   |   |   |--- class: 0.0\n",
      "|--- V9 >  0.02\n",
      "|   |--- V40 <= 0.11\n",
      "|   |   |--- V44 <= 0.17\n",
      "|   |   |   |--- V30 <= 0.52\n",
      "|   |   |   |   |--- V10 <= 0.74\n",
      "|   |   |   |   |   |--- class: 0.0\n",
      "|   |   |   |   |--- V10 >  0.74\n",
      "|   |   |   |   |   |--- V34 <= 0.82\n",
      "|   |   |   |   |   |   |--- class: 1.0\n",
      "|   |   |   |   |   |--- V34 >  0.82\n",
      "|   |   |   |   |   |   |--- class: 0.0\n",
      "|   |   |   |--- V30 >  0.52\n",
      "|   |   |   |   |--- V43 <= 0.16\n",
      "|   |   |   |   |   |--- class: 0.0\n",
      "|   |   |   |   |--- V43 >  0.16\n",
      "|   |   |   |   |   |--- class: 1.0\n",
      "|   |   |--- V44 >  0.17\n",
      "|   |   |   |--- V1 <= 0.89\n",
      "|   |   |   |   |--- class: 1.0\n",
      "|   |   |   |--- V1 >  0.89\n",
      "|   |   |   |   |--- class: 0.0\n",
      "|   |--- V40 >  0.11\n",
      "|   |   |--- V32 <= 0.76\n",
      "|   |   |   |--- V3 <= 0.86\n",
      "|   |   |   |   |--- V34 <= 0.70\n",
      "|   |   |   |   |   |--- V10 <= 0.57\n",
      "|   |   |   |   |   |   |--- V56 <= 0.02\n",
      "|   |   |   |   |   |   |   |--- class: 0.0\n",
      "|   |   |   |   |   |   |--- V56 >  0.02\n",
      "|   |   |   |   |   |   |   |--- V33 <= 0.11\n",
      "|   |   |   |   |   |   |   |   |--- class: 0.0\n",
      "|   |   |   |   |   |   |   |--- V33 >  0.11\n",
      "|   |   |   |   |   |   |   |   |--- class: 1.0\n",
      "|   |   |   |   |   |--- V10 >  0.57\n",
      "|   |   |   |   |   |   |--- class: 1.0\n",
      "|   |   |   |   |--- V34 >  0.70\n",
      "|   |   |   |   |   |--- V24 <= 0.50\n",
      "|   |   |   |   |   |   |--- class: 1.0\n",
      "|   |   |   |   |   |--- V24 >  0.50\n",
      "|   |   |   |   |   |   |--- class: 0.0\n",
      "|   |   |   |--- V3 >  0.86\n",
      "|   |   |   |   |--- class: 0.0\n",
      "|   |   |--- V32 >  0.76\n",
      "|   |   |   |--- V38 <= 0.50\n",
      "|   |   |   |   |--- class: 0.0\n",
      "|   |   |   |--- V38 >  0.50\n",
      "|   |   |   |   |--- class: 1.0\n",
      "\n"
     ]
    }
   ],
   "source": [
    "print(tree_rules)"
   ]
  },
  {
   "cell_type": "code",
   "execution_count": null,
   "metadata": {},
   "outputs": [],
   "source": []
  }
 ],
 "metadata": {
  "kernelspec": {
   "display_name": "Python 3",
   "language": "python",
   "name": "python3"
  },
  "language_info": {
   "codemirror_mode": {
    "name": "ipython",
    "version": 3
   },
   "file_extension": ".py",
   "mimetype": "text/x-python",
   "name": "python",
   "nbconvert_exporter": "python",
   "pygments_lexer": "ipython3",
   "version": "3.8.3"
  }
 },
 "nbformat": 4,
 "nbformat_minor": 2
}
