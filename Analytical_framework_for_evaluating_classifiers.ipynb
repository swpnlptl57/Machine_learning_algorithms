{
 "cells": [
  {
   "cell_type": "markdown",
   "metadata": {},
   "source": [
    "# Evaluation of Classifier\n",
    "\n",
    "#### Confusion Matrix\n",
    "\n",
    "#### Expected Value Analytical Framework\n",
    "\n",
    "#### Evaluation based on Simulation / averaging the experiments"
   ]
  },
  {
   "cell_type": "markdown",
   "metadata": {},
   "source": [
    "# Confusion Matrix\n",
    "\n",
    "Matrix of confusion of the classifier\n",
    "\n",
    "How many postive samples correctly detected and how many missed?\n",
    "How many negative samples correctly detected and how many missed?\n",
    "\n",
    "True Positives\n",
    "\n",
    "True Negative\n",
    "\n",
    "False Positives\n",
    "\n",
    "False Negatives\n",
    "\n",
    "CM = [[TN , FP], [FN, TP]]\n",
    "\n",
    "Accuracy = (TP + TN) / (TP + TN + FP + FN)\n",
    "\n",
    "Precision = TP / (TP + FP)\n",
    "\n",
    "Recall = TP / (TP + FN)"
   ]
  },
  {
   "cell_type": "markdown",
   "metadata": {},
   "source": [
    "# Expected Value Analytics Framework\n",
    "\n",
    "### Expected Value of Normaly distributed Data is Mean of the data\n",
    "\n",
    "### Expected Value of random data:: sum of product of probability of an event and profit / value of the event\n",
    "\n",
    "EV = sum (p(i) * V(i)) for i = 0 to n"
   ]
  },
  {
   "cell_type": "markdown",
   "metadata": {},
   "source": [
    "### Simple Application of EV"
   ]
  },
  {
   "cell_type": "markdown",
   "metadata": {},
   "source": [
    "let’s say that a consumer buys the product for 200rs and our product related\n",
    "costs are rs100. To target the consumer with the offer, we also incur a cost. Let’s\n",
    "say that we mail some flashy marketing materials, and the overall cost including postage\n",
    "is 1rs, yielding a value (profit) of vR = 99rs if the consumer responds (buys the product).\n",
    "Now, what about vNR, the value to us if the consumer does not respond? We still mailed\n",
    "the marketing materials, incurring a cost of 1rs or equivalently a benefit of -1rs.\n",
    "\n",
    "What is probability of response by customers which will lead to profit?"
   ]
  },
  {
   "cell_type": "markdown",
   "metadata": {},
   "source": [
    "EV = P(R) * V(R)  + P(NR) * V(NR)\n",
    "\n",
    "V(R) = 99 and V(NR) = -1 and P(NR) = 1 - P(R)\n",
    "\n",
    "EV = P(R) * 99  - (1 - P(R)) * 1 \n",
    "\n",
    "If we want to make profit then expected value should be positive\n",
    "\n",
    "EV > 0\n",
    "\n",
    "P(R) * 99  - (1 - P(R)) * 1  > 0 \n",
    "\n",
    "P(R) > 0.01 will lead to profit"
   ]
  },
  {
   "cell_type": "markdown",
   "metadata": {},
   "source": [
    "### Extract probabilities from Confusion Matrix\n",
    "\n",
    "CM = [[TN , FP], [FN, TP]]\n",
    "\n",
    "\n",
    "\n",
    "Probabilties = [[TN / Total , FP/Total], [FN / Total, TP/Total]]\n"
   ]
  },
  {
   "cell_type": "code",
   "execution_count": 19,
   "metadata": {},
   "outputs": [],
   "source": [
    "import numpy as np"
   ]
  },
  {
   "cell_type": "code",
   "execution_count": 20,
   "metadata": {},
   "outputs": [
    {
     "data": {
      "text/plain": [
       "95"
      ]
     },
     "execution_count": 20,
     "metadata": {},
     "output_type": "execute_result"
    }
   ],
   "source": [
    "CM = np.array([[40, 3], [2, 50]])\n",
    "Total = CM.sum()\n",
    "Total"
   ]
  },
  {
   "cell_type": "code",
   "execution_count": 21,
   "metadata": {},
   "outputs": [
    {
     "data": {
      "text/plain": [
       "array([[0.42105263, 0.03157895],\n",
       "       [0.02105263, 0.52631579]])"
      ]
     },
     "execution_count": 21,
     "metadata": {},
     "output_type": "execute_result"
    }
   ],
   "source": [
    "prob = CM / Total\n",
    "prob"
   ]
  },
  {
   "cell_type": "markdown",
   "metadata": {},
   "source": [
    "### Deciding Cost and Profit of Decision\n",
    "\n",
    "##### Based on \n",
    "+ External factors\n",
    "+ Bussiness decisions\n",
    "\n",
    "In above example of customer buying lead tp 99rs profit and not buying lead to -1 rs profit.\n",
    "\n",
    "TP -> we offered product and customer bought it ( profit 99rs)\n",
    "\n",
    "TN -> we did not offer product and customer doesn't buy it ( profit 0rs)\n",
    "\n",
    "FP -> we offered product and customer did not buy it (profit = -1 rs)\n",
    "\n",
    "FN -> we did not offer product and customer bought it from other source ( profit 0rs)"
   ]
  },
  {
   "cell_type": "code",
   "execution_count": 5,
   "metadata": {},
   "outputs": [],
   "source": [
    "cost = np.array([[0 , -1], [0 , 99]])"
   ]
  },
  {
   "cell_type": "markdown",
   "metadata": {},
   "source": [
    "## Expected Value / profit by the classifier\n",
    "\n",
    "EV = sum( prob * cost) \n",
    "\n",
    "EV is sum of element wise multiplication of probability and cost values"
   ]
  },
  {
   "cell_type": "code",
   "execution_count": 22,
   "metadata": {},
   "outputs": [],
   "source": [
    "EV = prob * cost"
   ]
  },
  {
   "cell_type": "code",
   "execution_count": 23,
   "metadata": {},
   "outputs": [
    {
     "data": {
      "text/plain": [
       "51.86315789473684"
      ]
     },
     "execution_count": 23,
     "metadata": {},
     "output_type": "execute_result"
    }
   ],
   "source": [
    "EV.sum()"
   ]
  },
  {
   "cell_type": "markdown",
   "metadata": {},
   "source": [
    "# Cost Matrix Aspects\n",
    "\n",
    "#### In real life cost FN is very high, means profit is -ve with high value.\n",
    "\n",
    "#### So, in real life classifiers with minimum FN should be considered\n",
    "\n",
    "#### In other terms, classifier with better recall are superier !!"
   ]
  },
  {
   "cell_type": "code",
   "execution_count": 12,
   "metadata": {},
   "outputs": [],
   "source": [
    "cost = np.array([[0 , -1], [-10 , 99]])"
   ]
  },
  {
   "cell_type": "code",
   "execution_count": 13,
   "metadata": {},
   "outputs": [],
   "source": [
    "# Classifier 1\n",
    "CM1 = np.array([[40, 3], [2, 50]])\n",
    "Total1 = CM.sum()\n",
    "prob1 = CM1 / Total1"
   ]
  },
  {
   "cell_type": "code",
   "execution_count": 14,
   "metadata": {},
   "outputs": [],
   "source": [
    "EV1 = prob1 * cost"
   ]
  },
  {
   "cell_type": "code",
   "execution_count": 15,
   "metadata": {},
   "outputs": [
    {
     "data": {
      "text/plain": [
       "20.359504132231407"
      ]
     },
     "execution_count": 15,
     "metadata": {},
     "output_type": "execute_result"
    }
   ],
   "source": [
    "EV1.sum()"
   ]
  },
  {
   "cell_type": "code",
   "execution_count": 16,
   "metadata": {},
   "outputs": [],
   "source": [
    "# Classifier 2\n",
    "CM2 = np.array([[40, 5], [0, 50]])\n",
    "Total2 = CM.sum()\n",
    "prob2 = CM2 / Total2"
   ]
  },
  {
   "cell_type": "code",
   "execution_count": 17,
   "metadata": {},
   "outputs": [],
   "source": [
    "EV2 = prob2 * cost"
   ]
  },
  {
   "cell_type": "code",
   "execution_count": 18,
   "metadata": {},
   "outputs": [
    {
     "data": {
      "text/plain": [
       "20.433884297520663"
      ]
     },
     "execution_count": 18,
     "metadata": {},
     "output_type": "execute_result"
    }
   ],
   "source": [
    "EV2.sum()"
   ]
  },
  {
   "cell_type": "markdown",
   "metadata": {},
   "source": [
    "# Baseline Of classifier"
   ]
  },
  {
   "cell_type": "code",
   "execution_count": null,
   "metadata": {},
   "outputs": [],
   "source": [
    "# IF there is imbalance in data\n",
    "# Then define baseline of the performance\n",
    "\n",
    "# If  data is balanced then baseline is 50% accuracy"
   ]
  }
 ],
 "metadata": {
  "kernelspec": {
   "display_name": "Python 3",
   "language": "python",
   "name": "python3"
  },
  "language_info": {
   "codemirror_mode": {
    "name": "ipython",
    "version": 3
   },
   "file_extension": ".py",
   "mimetype": "text/x-python",
   "name": "python",
   "nbconvert_exporter": "python",
   "pygments_lexer": "ipython3",
   "version": "3.8.3"
  }
 },
 "nbformat": 4,
 "nbformat_minor": 4
}
