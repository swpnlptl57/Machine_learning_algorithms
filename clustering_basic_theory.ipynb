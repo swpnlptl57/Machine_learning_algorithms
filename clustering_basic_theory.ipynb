{
 "cells": [
  {
   "cell_type": "code",
   "execution_count": null,
   "metadata": {},
   "outputs": [],
   "source": [
    "# Clustering is a set of techniques used to partition data into groups, or clusters. Clusters are loosely defined as groups\n",
    "# of data objects that are more similar to other objects in their cluster than they are to data objects in other clusters. \n",
    "# In practice, clustering helps identify two qualities of data:\n",
    "\n",
    "# Meaningfulness\n",
    "# Usefulness\n",
    "\n",
    "# Meaningful clusters expand domain knowledge. For example, in the medical field, researchers applied \n",
    "# clustering to gene expression experiments. The clustering results identified groups of patients who\n",
    "# respond differently to medical treatments.\n",
    "\n",
    "# Useful clusters, on the other hand, serve as an intermediate step in a data pipeline.\n",
    "# For example, businesses use clustering for customer segmentation. The clustering results\n",
    "# segment customers into groups with similar purchase histories, which businesses can then \n",
    "# use to create targeted advertising campaigns."
   ]
  },
  {
   "cell_type": "markdown",
   "metadata": {},
   "source": [
    "# Partitional clustering"
   ]
  },
  {
   "cell_type": "code",
   "execution_count": null,
   "metadata": {},
   "outputs": [],
   "source": [
    "# Partitional clustering divides data objects into nonoverlapping groups.\n",
    "# In other words, no object can be a member of more than one cluster, \n",
    "# and every cluster must have at least one object.\n",
    "\n",
    "# These techniques require the user to specify the number of clusters, \n",
    "# indicated by the variable k.\n",
    "# Many partitional clustering algorithms work \n",
    "# through an iterative process to assign subsets of data points into k clusters. \n",
    "# Two examples of partitional clustering algorithms are k-means and k-medoids.\n",
    "\n",
    "# These algorithms are both nondeterministic, meaning they could produce different results \n",
    "# from two separate runs even if the runs were based on the same input.\n",
    "\n",
    "# Partitional clustering methods have several strengths:\n",
    "\n",
    "# They work well when clusters have a spherical shape.\n",
    "# They’re scalable with respect to algorithm complexity.\n",
    "# They also have several weaknesses:\n",
    "\n",
    "# They’re not well suited for clusters with complex shapes and different sizes.\n",
    "# They break down when used with clusters of different densities"
   ]
  },
  {
   "cell_type": "markdown",
   "metadata": {},
   "source": [
    "# Hierarchical Clustering"
   ]
  },
  {
   "cell_type": "raw",
   "metadata": {},
   "source": [
    "Hierarchical Clustering\n",
    "Hierarchical clustering determines cluster assignments by building a hierarchy. \n",
    "This is implemented by either a bottom-up or a top-down approach:\n",
    "\n",
    "##Agglomerative clustering is the bottom-up approach. It merges the two points that are the most similar until\n",
    "all points have been merged into a single cluster.\n",
    "# # Divisive clustering is the top-down approach. It starts with all points as one cluster and splits the least \n",
    "similar clusters at each step until only single data points remain.\n",
    "\n",
    "# # These methods produce a tree-based hierarchy of points called a dendrogram. \n",
    "# #Similar to partitional clustering, in hierarchical clustering the number of clusters (k) is often predetermined by the user. \n",
    "# #Clusters are assigned by cutting the dendrogram at a specified depth that results in k groups of smaller dendrograms.\n",
    "\n",
    "# # Unlike many partitional clustering techniques, hierarchical clustering is a deterministic process,\n",
    "# # meaning cluster assignments won’t change when you run an algorithm twice on the same input data.\n",
    "\n",
    "# # The strengths of hierarchical clustering methods include the following:\n",
    "\n",
    "# # They often reveal the finer details about the relationships between data objects.\n",
    "# # They provide an interpretable dendrogram.\n",
    "# # The weaknesses of hierarchical clustering methods include the following:\n",
    "\n",
    "# # They’re computationally expensive with respect to algorithm complexity.\n",
    "# # They’re sensitive to noise and outliers."
   ]
  },
  {
   "cell_type": "markdown",
   "metadata": {},
   "source": [
    "# Density-Based Clustering"
   ]
  },
  {
   "cell_type": "raw",
   "metadata": {},
   "source": [
    "Density-based clustering determines cluster assignments based on the density of data points in a region. Clusters are assigned where there are high densities of data points separated by low-density regions.\n",
    "\n",
    "Unlike the other clustering categories, this approach doesn’t require the user to specify the number of clusters. Instead, there is a distance-based parameter that acts as a tunable threshold. This threshold determines how close points must be to be considered a cluster member.\n",
    "\n",
    "Examples of density-based clustering algorithms include Density-Based Spatial Clustering of Applications with Noise, or DBSCAN, and Ordering Points To Identify the Clustering Structure, or OPTICS.\n",
    "\n",
    "The strengths of density-based clustering methods include the following:\n",
    "\n",
    "They excel at identifying clusters of nonspherical shapes.\n",
    "They’re resistant to outliers.\n",
    "The weaknesses of density-based clustering methods include the following:\n",
    "\n",
    "They aren’t well suited for clustering in high-dimensional spaces.\n",
    "They have trouble identifying clusters of varying densities.\n",
    "How to Perform K-Means Clustering in Python\n",
    "In this section, you’ll take a step-by-step tour of the conventional version of the k-means algorithm. Understanding the details of the algorithm is a fundamental step in the process of writing your k-means clustering pipeline in Python. What you learn in this section will help you decide if k-means is the right choice to solve your clustering problem.\n",
    "\n"
   ]
  },
  {
   "cell_type": "raw",
   "metadata": {},
   "source": [
    " #### kmeans alogorithms\n",
    " \n",
    " 1 The first step is to randomly select k centroids, where k is equal to the number of clusters you choose\n",
    " 2 The main element of the algorithm works by a two-step process called expectation-maximization. The expectation step assigns each data point to its nearest centroid. \n",
    " 3 Then, the maximization step computes the mean of all the points for each cluster and sets the new centroid"
   ]
  },
  {
   "cell_type": "code",
   "execution_count": 2,
   "metadata": {},
   "outputs": [],
   "source": [
    "import matplotlib.pyplot as plt\n",
    "\n",
    "from sklearn.datasets import make_blobs\n",
    "from sklearn.cluster import KMeans\n",
    "from sklearn.metrics import silhouette_score\n",
    "from sklearn.preprocessing import StandardScaler"
   ]
  },
  {
   "cell_type": "raw",
   "metadata": {},
   "source": [
    "n_samples is the total number of samples to generate.\n",
    "centers is the number of centers to generate.\n",
    "cluster_std is the standard deviation."
   ]
  },
  {
   "cell_type": "raw",
   "metadata": {},
   "source": [
    "make_blobs() returns a tuple of two values:\n",
    "\n",
    "A two-dimensional NumPy array with the x- and y-values for each of the samples\n",
    "A one-dimensional NumPy array containing the cluster labels for each sample"
   ]
  },
  {
   "cell_type": "code",
   "execution_count": 3,
   "metadata": {},
   "outputs": [],
   "source": [
    " features, true_labels = make_blobs( n_samples=200, centers=3,cluster_std=2.75,random_state=42 )"
   ]
  },
  {
   "cell_type": "code",
   "execution_count": 8,
   "metadata": {},
   "outputs": [
    {
     "name": "stdout",
     "output_type": "stream",
     "text": [
      "[[  9.77075874   3.27621022]\n",
      " [ -9.71349666  11.27451802]\n",
      " [ -6.91330582  -9.34755911]\n",
      " [-10.86185913 -10.75063497]\n",
      " [ -8.50038027  -4.54370383]]\n",
      "[1 0 2 2 2]\n"
     ]
    }
   ],
   "source": [
    "print(features[:5])\n",
    "print(true_labels[:5])\n"
   ]
  },
  {
   "cell_type": "raw",
   "metadata": {},
   "source": [
    "The process of transforming numerical features to use the same scale is known as feature scaling\n",
    "In this example, you’ll use the StandardScaler class. This class implements a type of feature scaling \n",
    "called standardization. Standardization scales, or shifts, the values for each numerical feature in your dataset so that the features have a mean of 0 and standard deviation of 1:"
   ]
  },
  {
   "cell_type": "code",
   "execution_count": 9,
   "metadata": {},
   "outputs": [],
   "source": [
    " #This will perform ten runs of the k-means algorithm on your data with a maximum of 300 iterations per run:\n",
    "    \n",
    "    kmeans = KMeans(init=\"random\",\n",
    "                 n_clusters=3,n_init=10,\n",
    "                 max_iter=300,\n",
    "                 random_state=42  )\n",
    "    \n",
    "#1 init controls the initialization technique. \n",
    "  #The standard version of the k-means algorithm is implemented by setting init to \"random\"\n",
    "#2 n_init sets the number of initializations to perform. \n",
    "  # This is important because two runs can converge on different cluster assignments. \n",
    "#3 max_iter sets the number of maximum iterations for each initialization of the k-means algorithm."
   ]
  },
  {
   "cell_type": "code",
   "execution_count": 11,
   "metadata": {},
   "outputs": [
    {
     "data": {
      "text/plain": [
       "KMeans(init='random', n_clusters=3, random_state=42)"
      ]
     },
     "execution_count": 11,
     "metadata": {},
     "output_type": "execute_result"
    }
   ],
   "source": [
    "kmeans.fit(features)"
   ]
  },
  {
   "cell_type": "code",
   "execution_count": 12,
   "metadata": {},
   "outputs": [
    {
     "data": {
      "text/plain": [
       "<matplotlib.collections.PathCollection at 0x285bc695ac0>"
      ]
     },
     "execution_count": 12,
     "metadata": {},
     "output_type": "execute_result"
    },
    {
     "data": {
      "image/png": "[encoded data removed]",
      "text/plain": [
       "<Figure size 432x288 with 1 Axes>"
      ]
     },
     "metadata": {
      "needs_background": "light"
     },
     "output_type": "display_data"
    }
   ],
   "source": [
    "plt.scatter(features[:, 0], features[:, 1], s=50)"
   ]
  },
  {
   "cell_type": "code",
   "execution_count": 14,
   "metadata": {},
   "outputs": [
    {
     "data": {
      "text/plain": [
       "<matplotlib.collections.PathCollection at 0x285bc73d700>"
      ]
     },
     "execution_count": 14,
     "metadata": {},
     "output_type": "execute_result"
    },
    {
     "data": {
      "image/png": "[encoded data removed]",
      "text/plain": [
       "<Figure size 432x288 with 1 Axes>"
      ]
     },
     "metadata": {
      "needs_background": "light"
     },
     "output_type": "display_data"
    }
   ],
   "source": [
    "kmeans.fit(features)\n",
    "y_kmeans = kmeans.predict(features)\n",
    "plt.scatter(features[:, 0], features[:, 1], c=y_kmeans, s=50, cmap='viridis')"
   ]
  },
  {
   "cell_type": "code",
   "execution_count": 15,
   "metadata": {},
   "outputs": [
    {
     "data": {
      "image/png": "[encoded data removed]",
      "text/plain": [
       "<Figure size 432x288 with 1 Axes>"
      ]
     },
     "metadata": {
      "needs_background": "light"
     },
     "output_type": "display_data"
    }
   ],
   "source": [
    "centers = kmeans.cluster_centers_\n",
    "plt.scatter(centers[:, 0], centers[:, 1], c='black', s=200, alpha=0.5);"
   ]
  },
  {
   "cell_type": "markdown",
   "metadata": {},
   "source": [
    "# K means on Titanic dataframe"
   ]
  },
  {
   "cell_type": "code",
   "execution_count": null,
   "metadata": {},
   "outputs": [],
   "source": []
  }
 ],
 "metadata": {
  "kernelspec": {
   "display_name": "Python 3",
   "language": "python",
   "name": "python3"
  },
  "language_info": {
   "codemirror_mode": {
    "name": "ipython",
    "version": 3
   },
   "file_extension": ".py",
   "mimetype": "text/x-python",
   "name": "python",
   "nbconvert_exporter": "python",
   "pygments_lexer": "ipython3",
   "version": "3.8.3"
  }
 },
 "nbformat": 4,
 "nbformat_minor": 4
}
