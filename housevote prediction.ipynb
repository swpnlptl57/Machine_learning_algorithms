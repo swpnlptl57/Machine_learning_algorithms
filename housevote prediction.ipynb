{
 "cells": [
  {
   "cell_type": "code",
   "execution_count": 8,
   "metadata": {},
   "outputs": [],
   "source": [
    "import pandas as pd\n",
    "import requests\n",
    "import io"
   ]
  },
  {
   "cell_type": "code",
   "execution_count": 9,
   "metadata": {},
   "outputs": [],
   "source": [
    "url=\"http://web.cs.iastate.edu/~cs573x/labs/lab1/house-votes-84.data\"\n",
    "s=requests.get(url).content\n",
    "c=pd.read_csv(io.StringIO(s.decode('utf-8')))"
   ]
  },
  {
   "cell_type": "code",
   "execution_count": 10,
   "metadata": {},
   "outputs": [
    {
     "data": {
      "text/html": [
       "<div>\n",
       "<style scoped>\n",
       "    .dataframe tbody tr th:only-of-type {\n",
       "        vertical-align: middle;\n",
       "    }\n",
       "\n",
       "    .dataframe tbody tr th {\n",
       "        vertical-align: top;\n",
       "    }\n",
       "\n",
       "    .dataframe thead th {\n",
       "        text-align: right;\n",
       "    }\n",
       "</style>\n",
       "<table border=\"1\" class=\"dataframe\">\n",
       "  <thead>\n",
       "    <tr style=\"text-align: right;\">\n",
       "      <th></th>\n",
       "      <th>n</th>\n",
       "      <th>y</th>\n",
       "      <th>n.1</th>\n",
       "      <th>y.1</th>\n",
       "      <th>y.2</th>\n",
       "      <th>y.3</th>\n",
       "      <th>n.2</th>\n",
       "      <th>n.3</th>\n",
       "      <th>n.4</th>\n",
       "      <th>y.4</th>\n",
       "      <th>?</th>\n",
       "      <th>y.5</th>\n",
       "      <th>y.6</th>\n",
       "      <th>y.7</th>\n",
       "      <th>n.5</th>\n",
       "      <th>y.8</th>\n",
       "      <th>republican</th>\n",
       "    </tr>\n",
       "  </thead>\n",
       "  <tbody>\n",
       "    <tr>\n",
       "      <th>0</th>\n",
       "      <td>n</td>\n",
       "      <td>y</td>\n",
       "      <td>n</td>\n",
       "      <td>y</td>\n",
       "      <td>y</td>\n",
       "      <td>y</td>\n",
       "      <td>n</td>\n",
       "      <td>n</td>\n",
       "      <td>n</td>\n",
       "      <td>n</td>\n",
       "      <td>n</td>\n",
       "      <td>y</td>\n",
       "      <td>y</td>\n",
       "      <td>y</td>\n",
       "      <td>n</td>\n",
       "      <td>?</td>\n",
       "      <td>republican</td>\n",
       "    </tr>\n",
       "    <tr>\n",
       "      <th>1</th>\n",
       "      <td>?</td>\n",
       "      <td>y</td>\n",
       "      <td>y</td>\n",
       "      <td>?</td>\n",
       "      <td>y</td>\n",
       "      <td>y</td>\n",
       "      <td>n</td>\n",
       "      <td>n</td>\n",
       "      <td>n</td>\n",
       "      <td>n</td>\n",
       "      <td>y</td>\n",
       "      <td>n</td>\n",
       "      <td>y</td>\n",
       "      <td>y</td>\n",
       "      <td>n</td>\n",
       "      <td>n</td>\n",
       "      <td>democrat</td>\n",
       "    </tr>\n",
       "    <tr>\n",
       "      <th>2</th>\n",
       "      <td>n</td>\n",
       "      <td>y</td>\n",
       "      <td>y</td>\n",
       "      <td>n</td>\n",
       "      <td>?</td>\n",
       "      <td>y</td>\n",
       "      <td>n</td>\n",
       "      <td>n</td>\n",
       "      <td>n</td>\n",
       "      <td>n</td>\n",
       "      <td>y</td>\n",
       "      <td>n</td>\n",
       "      <td>y</td>\n",
       "      <td>n</td>\n",
       "      <td>n</td>\n",
       "      <td>y</td>\n",
       "      <td>democrat</td>\n",
       "    </tr>\n",
       "    <tr>\n",
       "      <th>3</th>\n",
       "      <td>y</td>\n",
       "      <td>y</td>\n",
       "      <td>y</td>\n",
       "      <td>n</td>\n",
       "      <td>y</td>\n",
       "      <td>y</td>\n",
       "      <td>n</td>\n",
       "      <td>n</td>\n",
       "      <td>n</td>\n",
       "      <td>n</td>\n",
       "      <td>y</td>\n",
       "      <td>?</td>\n",
       "      <td>y</td>\n",
       "      <td>y</td>\n",
       "      <td>y</td>\n",
       "      <td>y</td>\n",
       "      <td>democrat</td>\n",
       "    </tr>\n",
       "    <tr>\n",
       "      <th>4</th>\n",
       "      <td>n</td>\n",
       "      <td>y</td>\n",
       "      <td>y</td>\n",
       "      <td>n</td>\n",
       "      <td>y</td>\n",
       "      <td>y</td>\n",
       "      <td>n</td>\n",
       "      <td>n</td>\n",
       "      <td>n</td>\n",
       "      <td>n</td>\n",
       "      <td>n</td>\n",
       "      <td>n</td>\n",
       "      <td>y</td>\n",
       "      <td>y</td>\n",
       "      <td>y</td>\n",
       "      <td>y</td>\n",
       "      <td>democrat</td>\n",
       "    </tr>\n",
       "  </tbody>\n",
       "</table>\n",
       "</div>"
      ],
      "text/plain": [
       "   n  y n.1 y.1 y.2 y.3 n.2 n.3 n.4 y.4  ? y.5 y.6 y.7 n.5 y.8  republican\n",
       "0  n  y   n   y   y   y   n   n   n   n  n   y   y   y   n   ?  republican\n",
       "1  ?  y   y   ?   y   y   n   n   n   n  y   n   y   y   n   n    democrat\n",
       "2  n  y   y   n   ?   y   n   n   n   n  y   n   y   n   n   y    democrat\n",
       "3  y  y   y   n   y   y   n   n   n   n  y   ?   y   y   y   y    democrat\n",
       "4  n  y   y   n   y   y   n   n   n   n  n   n   y   y   y   y    democrat"
      ]
     },
     "execution_count": 10,
     "metadata": {},
     "output_type": "execute_result"
    }
   ],
   "source": [
    "c.head()"
   ]
  },
  {
   "cell_type": "code",
   "execution_count": null,
   "metadata": {},
   "outputs": [],
   "source": [
    "# predict data classes republic and democrat"
   ]
  },
  {
   "cell_type": "code",
   "execution_count": 12,
   "metadata": {},
   "outputs": [
    {
     "data": {
      "text/plain": [
       "<bound method DataFrame.info of      n  y n.1 y.1 y.2 y.3 n.2 n.3 n.4 y.4  ? y.5 y.6 y.7 n.5 y.8  republican\n",
       "0    n  y   n   y   y   y   n   n   n   n  n   y   y   y   n   ?  republican\n",
       "1    ?  y   y   ?   y   y   n   n   n   n  y   n   y   y   n   n    democrat\n",
       "2    n  y   y   n   ?   y   n   n   n   n  y   n   y   n   n   y    democrat\n",
       "3    y  y   y   n   y   y   n   n   n   n  y   ?   y   y   y   y    democrat\n",
       "4    n  y   y   n   y   y   n   n   n   n  n   n   y   y   y   y    democrat\n",
       "..  .. ..  ..  ..  ..  ..  ..  ..  ..  .. ..  ..  ..  ..  ..  ..         ...\n",
       "429  n  n   y   y   y   y   n   n   y   y  n   y   y   y   n   y  republican\n",
       "430  n  n   y   n   n   n   y   y   y   y  n   n   n   n   n   y    democrat\n",
       "431  n  ?   n   y   y   y   n   n   n   n  y   y   y   y   n   y  republican\n",
       "432  n  n   n   y   y   y   ?   ?   ?   ?  n   y   y   y   n   y  republican\n",
       "433  n  y   n   y   y   y   n   n   n   y  n   y   y   y   ?   n  republican\n",
       "\n",
       "[434 rows x 17 columns]>"
      ]
     },
     "execution_count": 12,
     "metadata": {},
     "output_type": "execute_result"
    }
   ],
   "source": [
    "c.replace(\"\")\n"
   ]
  },
  {
   "cell_type": "code",
   "execution_count": 13,
   "metadata": {},
   "outputs": [
    {
     "name": "stdout",
     "output_type": "stream",
     "text": [
      "Rows     : 434\n",
      "Columns  : 17\n",
      "\n",
      "Features :\n",
      "     : ['n', 'y', 'n.1', 'y.1', 'y.2', 'y.3', 'n.2', 'n.3', 'n.4', 'y.4', '?', 'y.5', 'y.6', 'y.7', 'n.5', 'y.8', 'republican']\n",
      "\n",
      "Missing values    : 0\n"
     ]
    }
   ],
   "source": [
    "print('Rows     :',c.shape[0])\n",
    "print('Columns  :', c.shape[1])\n",
    "print('\\nFeatures :\\n     :',c.columns.tolist())\n",
    "print('\\nMissing values    :',c.isnull().values.sum())\n"
   ]
  },
  {
   "cell_type": "code",
   "execution_count": 127,
   "metadata": {},
   "outputs": [
    {
     "data": {
      "text/plain": [
       "democrat      267\n",
       "republican    167\n",
       "Name: republican, dtype: int64"
      ]
     },
     "execution_count": 127,
     "metadata": {},
     "output_type": "execute_result"
    }
   ],
   "source": [
    "\n",
    "import numpy as np\n",
    "c.replace(\"?\", np.nan, inplace = True)\n",
    "c.head(5) \n",
    "c['republican'].value_counts()"
   ]
  },
  {
   "cell_type": "code",
   "execution_count": 42,
   "metadata": {},
   "outputs": [
    {
     "name": "stdout",
     "output_type": "stream",
     "text": [
      "   n  y n.1 y.1 y.2 y.3 n.2 n.3 n.4 y.4  ? y.5 y.6 y.7 n.5 y.8  republican\n",
      "0  n  y   n   y   y   y   n   n   n   n  n   y   y   y   n   y  republican\n",
      "1  n  y   y   y   y   y   n   n   n   n  y   n   y   y   n   n    democrat\n",
      "2  n  y   y   n   y   y   n   n   n   n  y   n   y   n   n   y    democrat\n",
      "3  y  y   y   n   y   y   n   n   n   n  y   n   y   y   y   y    democrat\n",
      "4  n  y   y   n   y   y   n   n   n   n  n   n   y   y   y   y    democrat\n"
     ]
    }
   ],
   "source": [
    "df  = c.fillna(method='ffill')\n",
    "df['y.8'] = df['y.8'].replace(np.nan, 'y')\n",
    "print(df.head())\n"
   ]
  },
  {
   "cell_type": "code",
   "execution_count": 75,
   "metadata": {},
   "outputs": [
    {
     "name": "stdout",
     "output_type": "stream",
     "text": [
      "     republican\n",
      "0             1\n",
      "1             0\n",
      "2             0\n",
      "3             0\n",
      "4             0\n",
      "..          ...\n",
      "429           1\n",
      "430           0\n",
      "431           1\n",
      "432           1\n",
      "433           1\n",
      "\n",
      "[434 rows x 1 columns]\n"
     ]
    }
   ],
   "source": [
    "y = df.iloc[:, [-1]] \n",
    "y = y.replace({'republican':1,'democrat':0})\n",
    "print(y)\n",
    "\n"
   ]
  },
  {
   "cell_type": "code",
   "execution_count": 76,
   "metadata": {},
   "outputs": [
    {
     "name": "stdout",
     "output_type": "stream",
     "text": [
      "     n  y n.1 y.1 y.2 y.3 n.2 n.3 n.4 y.4 y.5 y.6 y.7 n.5 y.8\n",
      "0    n  y   n   y   y   y   n   n   n   n   y   y   y   n   y\n",
      "1    n  y   y   y   y   y   n   n   n   n   n   y   y   n   n\n",
      "2    n  y   y   n   y   y   n   n   n   n   n   y   n   n   y\n",
      "3    y  y   y   n   y   y   n   n   n   n   n   y   y   y   y\n",
      "4    n  y   y   n   y   y   n   n   n   n   n   y   y   y   y\n",
      "..  .. ..  ..  ..  ..  ..  ..  ..  ..  ..  ..  ..  ..  ..  ..\n",
      "429  n  n   y   y   y   y   n   n   y   y   y   y   y   n   y\n",
      "430  n  n   y   n   n   n   y   y   y   y   n   n   n   n   y\n",
      "431  n  n   n   y   y   y   n   n   n   n   y   y   y   n   y\n",
      "432  n  n   n   y   y   y   n   n   n   n   y   y   y   n   y\n",
      "433  n  y   n   y   y   y   n   n   n   y   y   y   y   n   n\n",
      "\n",
      "[434 rows x 15 columns]\n"
     ]
    }
   ],
   "source": [
    "\n",
    "X = df.drop(['republican','?'],axis=1)\n",
    "print(X)"
   ]
  },
  {
   "cell_type": "code",
   "execution_count": 77,
   "metadata": {},
   "outputs": [],
   "source": [
    "X = X.replace({'n': 0, 'y': 1})"
   ]
  },
  {
   "cell_type": "code",
   "execution_count": 54,
   "metadata": {},
   "outputs": [
    {
     "name": "stdout",
     "output_type": "stream",
     "text": [
      "     n  y  n.1  y.1  y.2  y.3  n.2  n.3  n.4  y.4  y.5  y.6  y.7  n.5  y.8\n",
      "0    0  1    0    1    1    1    0    0    0    0    1    1    1    0    1\n",
      "1    0  1    1    1    1    1    0    0    0    0    0    1    1    0    0\n",
      "2    0  1    1    0    1    1    0    0    0    0    0    1    0    0    1\n",
      "3    1  1    1    0    1    1    0    0    0    0    0    1    1    1    1\n",
      "4    0  1    1    0    1    1    0    0    0    0    0    1    1    1    1\n",
      "..  .. ..  ...  ...  ...  ...  ...  ...  ...  ...  ...  ...  ...  ...  ...\n",
      "429  0  0    1    1    1    1    0    0    1    1    1    1    1    0    1\n",
      "430  0  0    1    0    0    0    1    1    1    1    0    0    0    0    1\n",
      "431  0  0    0    1    1    1    0    0    0    0    1    1    1    0    1\n",
      "432  0  0    0    1    1    1    0    0    0    0    1    1    1    0    1\n",
      "433  0  1    0    1    1    1    0    0    0    1    1    1    1    0    0\n",
      "\n",
      "[434 rows x 15 columns]\n"
     ]
    }
   ],
   "source": [
    "print(y)"
   ]
  },
  {
   "cell_type": "code",
   "execution_count": 78,
   "metadata": {},
   "outputs": [],
   "source": [
    "from sklearn.model_selection import train_test_split\n",
    "X_train, X_test, y_train, y_test = train_test_split(X, y, test_size=0.3)"
   ]
  },
  {
   "cell_type": "code",
   "execution_count": 79,
   "metadata": {},
   "outputs": [
    {
     "name": "stdout",
     "output_type": "stream",
     "text": [
      "(303, 15)\n",
      "(131, 15)\n"
     ]
    }
   ],
   "source": [
    "print(X_train.shape)\n",
    "print(X_test.shape)"
   ]
  },
  {
   "cell_type": "code",
   "execution_count": 80,
   "metadata": {},
   "outputs": [],
   "source": [
    "from sklearn.linear_model import LogisticRegression"
   ]
  },
  {
   "cell_type": "code",
   "execution_count": 81,
   "metadata": {},
   "outputs": [],
   "source": [
    "voting_logistic = LogisticRegression(C=10)"
   ]
  },
  {
   "cell_type": "code",
   "execution_count": 82,
   "metadata": {},
   "outputs": [
    {
     "name": "stderr",
     "output_type": "stream",
     "text": [
      "C:\\ProgramData\\Anaconda3\\lib\\site-packages\\sklearn\\utils\\validation.py:73: DataConversionWarning: A column-vector y was passed when a 1d array was expected. Please change the shape of y to (n_samples, ), for example using ravel().\n",
      "  return f(**kwargs)\n"
     ]
    },
    {
     "data": {
      "text/plain": [
       "LogisticRegression(C=10)"
      ]
     },
     "execution_count": 82,
     "metadata": {},
     "output_type": "execute_result"
    }
   ],
   "source": [
    "voting_logistic.fit(X_train, y_train)"
   ]
  },
  {
   "cell_type": "code",
   "execution_count": 84,
   "metadata": {},
   "outputs": [],
   "source": [
    "voting_logistic_predictions = voting_logistic.predict(X_test)"
   ]
  },
  {
   "cell_type": "code",
   "execution_count": 85,
   "metadata": {},
   "outputs": [
    {
     "name": "stdout",
     "output_type": "stream",
     "text": [
      "accuracy_score: 0.969466\n"
     ]
    }
   ],
   "source": [
    "from sklearn.metrics import accuracy_score\n",
    "acc_voting_logistic = accuracy_score(y_test, voting_logistic_predictions)\n",
    "print(\"accuracy_score: %4f\" % acc_voting_logistic)"
   ]
  },
  {
   "cell_type": "code",
   "execution_count": 148,
   "metadata": {},
   "outputs": [
    {
     "name": "stdout",
     "output_type": "stream",
     "text": [
      "\n",
      "One Sample t-test \n",
      "\n",
      "------------------  -----------\n",
      "Sample size          434\n",
      "Mean                   0.384793\n",
      "t                   -197.384\n",
      "Df                   433\n",
      "P-value (one-tail)     0\n",
      "P-value (two-tail)     0\n",
      "Lower 95.0%            0.338836\n",
      "Upper 95.0%            0.430749\n",
      "------------------  -----------\n"
     ]
    }
   ],
   "source": [
    "\n",
    "from bioinfokit.analys import get_data, stat\n",
    "res = stat()\n",
    "res.ttest(df= y, test_type=1, mu=5, res = \"republican\")\n",
    "print(res.summary)\n",
    "\n"
   ]
  },
  {
   "cell_type": "raw",
   "metadata": {},
   "source": [
    "The p value obtained from the one sample t-test is not significant (p < 0.05), and therefore, we reject the null hypothesis\n",
    "\n",
    "Hypothesis\n",
    "a statement about the value of a population parameter, in case of two hypotheses, the statement assumed to be true is called the null hypothesis (notation H0) and the contradictory statement is called the alternative hypothesis (notation Ha)\n"
   ]
  },
  {
   "cell_type": "code",
   "execution_count": 147,
   "metadata": {},
   "outputs": [
    {
     "data": {
      "text/plain": [
       "democrat      267\n",
       "republican    167\n",
       "Name: republican, dtype: int64"
      ]
     },
     "execution_count": 147,
     "metadata": {},
     "output_type": "execute_result"
    }
   ],
   "source": [
    "c['republican'].value_counts()"
   ]
  },
  {
   "cell_type": "code",
   "execution_count": null,
   "metadata": {},
   "outputs": [],
   "source": []
  }
 ],
 "metadata": {
  "kernelspec": {
   "display_name": "Python 3",
   "language": "python",
   "name": "python3"
  },
  "language_info": {
   "codemirror_mode": {
    "name": "ipython",
    "version": 3
   },
   "file_extension": ".py",
   "mimetype": "text/x-python",
   "name": "python",
   "nbconvert_exporter": "python",
   "pygments_lexer": "ipython3",
   "version": "3.8.3"
  }
 },
 "nbformat": 4,
 "nbformat_minor": 4
}
