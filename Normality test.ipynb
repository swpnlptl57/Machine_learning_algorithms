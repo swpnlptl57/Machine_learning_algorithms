{
 "cells": [
  {
   "cell_type": "markdown",
   "metadata": {},
   "source": [
    "# Testing for Normality — Applications with Python\n"
   ]
  },
  {
   "cell_type": "raw",
   "metadata": {},
   "source": [
    "The Shapiro-Wilk test;\n",
    "The Anderson-Darling test, and;\n",
    "The Kolmogorov-Smirnov test.\n",
    "\n",
    "\n",
    "If p < 0.5 data is normally distributed\n",
    "ie null hypothesis is rejected\n",
    "\n",
    "If p > 0.5 data is not normally distributed\n",
    "ie null hypothesis is accepeted\n"
   ]
  },
  {
   "cell_type": "markdown",
   "metadata": {},
   "source": [
    "#  Shapiro-Wilk test"
   ]
  },
  {
   "cell_type": "code",
   "execution_count": 6,
   "metadata": {},
   "outputs": [
    {
     "name": "stdout",
     "output_type": "stream",
     "text": [
      "ShapiroResult(statistic=0.9772805571556091, pvalue=0.08144091814756393)\n",
      "0.9772805571556091\n",
      "0.08144091814756393\n"
     ]
    }
   ],
   "source": [
    "import numpy as np\n",
    "from scipy import stats\n",
    "np.random.seed(12345678)\n",
    "x = stats.norm.rvs(loc=5, scale=3, size=100)\n",
    "shapiro_test = stats.shapiro(x)\n",
    "print(shapiro_test)\n",
    "\n",
    "print(shapiro_test.statistic)\n",
    "\n",
    "print(shapiro_test.pvalue)\n"
   ]
  },
  {
   "cell_type": "markdown",
   "metadata": {},
   "source": [
    "# Kolmogorov-Smirnov"
   ]
  },
  {
   "cell_type": "code",
   "execution_count": 16,
   "metadata": {},
   "outputs": [],
   "source": [
    "x_10 = stats.norm.rvs(loc=5, scale=3, size=10)\n",
    "x_50 = stats.norm.rvs(loc=5, scale=3, size=50)\n",
    "x_100 = stats.norm.rvs(loc=5, scale=3, size=100)\n",
    "x_1000 = stats.norm.rvs(loc=5, scale=3, size=1000)\n",
    "\n",
    "data_1 = [1,2,3,4,5]\n",
    "data_2 = [6,7,8,9,10]"
   ]
  },
  {
   "cell_type": "code",
   "execution_count": 17,
   "metadata": {},
   "outputs": [
    {
     "name": "stdout",
     "output_type": "stream",
     "text": [
      "KstestResult(statistic=1.0, pvalue=0.007936507936507936)\n",
      "KstestResult(statistic=0.1254726070423322, pvalue=0.9914238282974819)\n",
      "KstestResult(statistic=0.12275524064207721, pvalue=0.4056725943853564)\n",
      "KstestResult(statistic=0.0677489896149095, pvalue=0.722325628728014)\n",
      "KstestResult(statistic=0.01960583416307521, pvalue=0.8293179503932067)\n"
     ]
    }
   ],
   "source": [
    "# Perform test KS test against a normal distribution with\n",
    "# mean = 5 and sd = 3\n",
    "print (stats.kstest(data_1, data_2))\n",
    "print (stats.kstest(x_10, 'norm', args=(5, 3)))\n",
    "print (stats.kstest(x_50, 'norm', args=(5, 3)))\n",
    "print (stats.kstest(x_100, 'norm', args=(5, 3)))\n",
    "print (stats.kstest(x_1000, 'norm', args=(5, 3)))"
   ]
  },
  {
   "cell_type": "markdown",
   "metadata": {},
   "source": [
    "# The Kolmogorov-Smirnov test."
   ]
  },
  {
   "cell_type": "code",
   "execution_count": 11,
   "metadata": {},
   "outputs": [
    {
     "name": "stdout",
     "output_type": "stream",
     "text": [
      "AndersonResult(statistic=0.26644783748957934, critical_values=array([0.501, 0.57 , 0.684, 0.798, 0.95 ]), significance_level=array([15. , 10. ,  5. ,  2.5,  1. ]))\n",
      "AndersonResult(statistic=0.29418336318070715, critical_values=array([0.538, 0.613, 0.736, 0.858, 1.021]), significance_level=array([15. , 10. ,  5. ,  2.5,  1. ]))\n",
      "AndersonResult(statistic=0.1591254293426232, critical_values=array([0.555, 0.632, 0.759, 0.885, 1.053]), significance_level=array([15. , 10. ,  5. ,  2.5,  1. ]))\n",
      "AndersonResult(statistic=0.3318263625445752, critical_values=array([0.574, 0.653, 0.784, 0.914, 1.088]), significance_level=array([15. , 10. ,  5. ,  2.5,  1. ]))\n"
     ]
    }
   ],
   "source": [
    "anderson_results_10 = stats.anderson(x_10, dist='norm')\n",
    "anderson_results_50 = stats.anderson(x_50, dist='norm')\n",
    "anderson_results_100 = stats.anderson(x_100, dist='norm')\n",
    "anderson_results_1000 = stats.anderson(x_1000, dist='norm')\n",
    "print(anderson_results_10)\n",
    "print(anderson_results_50)\n",
    "print(anderson_results_100)\n",
    "print(anderson_results_1000)"
   ]
  },
  {
   "cell_type": "code",
   "execution_count": null,
   "metadata": {},
   "outputs": [],
   "source": []
  }
 ],
 "metadata": {
  "kernelspec": {
   "display_name": "Python 3",
   "language": "python",
   "name": "python3"
  },
  "language_info": {
   "codemirror_mode": {
    "name": "ipython",
    "version": 3
   },
   "file_extension": ".py",
   "mimetype": "text/x-python",
   "name": "python",
   "nbconvert_exporter": "python",
   "pygments_lexer": "ipython3",
   "version": "3.8.3"
  }
 },
 "nbformat": 4,
 "nbformat_minor": 4
}
