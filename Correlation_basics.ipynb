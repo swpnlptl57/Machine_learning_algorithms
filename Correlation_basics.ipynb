{
 "cells": [
  {
   "cell_type": "markdown",
   "metadata": {},
   "source": [
    "# Correlation and dependecy"
   ]
  },
  {
   "cell_type": "raw",
   "metadata": {},
   "source": [
    "3 types of SciPy Correlation Calculation\n",
    " \n",
    " \n",
    "pearsonr()\n",
    "spearmanr()\n",
    "kendalltau()\n",
    "\n",
    "if p > 0.05 datas are independent\n",
    "if p < 0.05 datas are dependent"
   ]
  },
  {
   "cell_type": "code",
   "execution_count": 24,
   "metadata": {},
   "outputs": [],
   "source": [
    "import numpy as np\n",
    "from scipy import stats\n",
    "x = np.arange(10, 20)\n",
    "\n",
    "\n",
    "y = np.array([1, 10, 20, 5, 8, 12, 18, 25, 96, 48])\n"
   ]
  },
  {
   "cell_type": "code",
   "execution_count": 25,
   "metadata": {},
   "outputs": [
    {
     "name": "stdout",
     "output_type": "stream",
     "text": [
      "(0.7043009709019419, 0.022980287028473437)\n",
      "SpearmanrResult(correlation=0.8060606060606059, pvalue=0.004862061101964606)\n",
      "KendalltauResult(correlation=0.6888888888888888, pvalue=0.00468694885361552)\n"
     ]
    }
   ],
   "source": [
    "print(scipy.stats.pearsonr(x, y))\n",
    "\n",
    "print(scipy.stats.spearmanr(x,y))\n",
    "\n",
    "print(scipy.stats.kendalltau(x, y))"
   ]
  },
  {
   "cell_type": "code",
   "execution_count": null,
   "metadata": {},
   "outputs": [],
   "source": []
  }
 ],
 "metadata": {
  "kernelspec": {
   "display_name": "Python 3",
   "language": "python",
   "name": "python3"
  },
  "language_info": {
   "codemirror_mode": {
    "name": "ipython",
    "version": 3
   },
   "file_extension": ".py",
   "mimetype": "text/x-python",
   "name": "python",
   "nbconvert_exporter": "python",
   "pygments_lexer": "ipython3",
   "version": "3.8.3"
  }
 },
 "nbformat": 4,
 "nbformat_minor": 4
}
